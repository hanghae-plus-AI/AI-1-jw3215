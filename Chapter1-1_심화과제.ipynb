{
  "cells": [
    {
      "cell_type": "markdown",
      "metadata": {
        "id": "OPJenlrhihrh"
      },
      "source": [
        "# MNIST 실습\n",
        "\n",
        "이번에는 28x28 흑백 손글씨 이미지를 보고 0~9 사이의 숫자 중 어떤 숫자를 쓴 것인지 예측하는 문제를 실습합니다.\n",
        "이번 실습에서는 GPU를 활용할 것이기 때문에, 이전 챕터에서 Colab에서 GPU를 설정하는 방법을 따라해주시길 바랍니다.\n",
        "\n",
        "GPU를 설정했으면 library들을 import합니다."
      ]
    },
    {
      "cell_type": "code",
      "execution_count": 7,
      "metadata": {
        "id": "6lXVfXoDtoQh"
      },
      "outputs": [],
      "source": [
        "import torch\n",
        "import torchvision\n",
        "import torchvision.transforms as transforms"
      ]
    },
    {
      "cell_type": "markdown",
      "metadata": {
        "id": "pF-1zQvmiult"
      },
      "source": [
        "다음은 dataset을 준비합니다. 손글씨 dataset은 MNIST라는 유명한 dataset이 있습니다. 이 dataset은 `torchvision`에서 제공하고 있으며, 다음과 같이 다운로드 받을 수 있습니다."
      ]
    },
    {
      "cell_type": "code",
      "execution_count": 8,
      "metadata": {
        "colab": {
          "base_uri": "https://localhost:8080/"
        },
        "id": "KAYlqPaRt6ti",
        "outputId": "1c3d5969-3526-4957-feb9-5eb039f6ea94"
      },
      "outputs": [
        {
          "name": "stdout",
          "output_type": "stream",
          "text": [
            "Downloading https://www.cs.toronto.edu/~kriz/cifar-10-python.tar.gz to ./data/cifar-10-python.tar.gz\n"
          ]
        },
        {
          "name": "stderr",
          "output_type": "stream",
          "text": [
            "100%|██████████| 170498071/170498071 [00:12<00:00, 13164645.34it/s]\n"
          ]
        },
        {
          "name": "stdout",
          "output_type": "stream",
          "text": [
            "Extracting ./data/cifar-10-python.tar.gz to ./data\n"
          ]
        }
      ],
      "source": [
        "transform = transforms.ToTensor()\n",
        "\n",
        "trainset = torchvision.datasets.CIFAR10(\n",
        "    root='./data',\n",
        "    train=True,\n",
        "    download=True,\n",
        "    transform=transform\n",
        ")"
      ]
    },
    {
      "cell_type": "markdown",
      "metadata": {
        "id": "p-GqH7_ZjVMs"
      },
      "source": [
        "MNIST는 손글씨 사진과 어떤 숫자를 의미하는지에 대한 label의 pair들로 구성되어있습니다.\n",
        "이 때, 우리는 PyTorch model을 사용할 것이기 때문에 손글씨 사진들을 모두 tensor로 변환해야합니다.\n",
        "이러한 부가적인 변환들은 `torchvision.transforms`에서 제공하고 있으며, `torchvision.datasets.MNIST`에서 `transform` 인자로 받을 수 있습니다.\n",
        "우리는 단순히 사진을 tensor로 바꾸고 싶기 때문에 `transforms.ToTensor()` transformation을 넘겨줍니다.\n",
        "\n",
        "다음은 전체 data의 개수와 첫 번째 data를 출력한 결과입니다."
      ]
    },
    {
      "cell_type": "code",
      "execution_count": 9,
      "metadata": {
        "colab": {
          "base_uri": "https://localhost:8080/",
          "height": 484
        },
        "id": "Zsp3sHmojyhT",
        "outputId": "d23b78f5-db05-4526-e3ff-a01c765501f4"
      },
      "outputs": [
        {
          "name": "stdout",
          "output_type": "stream",
          "text": [
            "50000\n",
            "torch.Size([3, 32, 32]) 6\n"
          ]
        },
        {
          "data": {
            "text/plain": [
              "<matplotlib.image.AxesImage at 0x7fb56ff0a7a0>"
            ]
          },
          "execution_count": 9,
          "metadata": {},
          "output_type": "execute_result"
        },
        {
          "data": {
            "image/png": "[encoded data removed]",
            "text/plain": [
              "<Figure size 640x480 with 1 Axes>"
            ]
          },
          "metadata": {},
          "output_type": "display_data"
        }
      ],
      "source": [
        "from matplotlib import pyplot as plt\n",
        "\n",
        "\n",
        "print(len(trainset))\n",
        "print(trainset[0][0].shape, trainset[0][1])\n",
        "plt.imshow(trainset[0][0][0])"
      ]
    },
    {
      "cell_type": "markdown",
      "metadata": {
        "id": "udm8wDBsi301"
      },
      "source": [
        "첫 번째 출력결과를 통해 우리는 6만장의 손글씨 data가 있는 것을 알 수 있습니다.\n",
        "그리고 두 번째 출력결과를 통해 첫 번째 data의 shape은 (1, 28, 28)이고 5라는 숫자를 쓴 사진이라는 것을 알 수 있습니다.\n",
        "마지막으로 `plt.imshow`를 통해 visualize 했을 때 5라는 숫자가 나오는 것을 알 수 있습니다.\n",
        "\n",
        "다음은 SGD를 위해 dataset을 여러 개의 batch로 나누는 과정을 PyTorch로 구현한 모습입니다."
      ]
    },
    {
      "cell_type": "code",
      "execution_count": 10,
      "metadata": {
        "id": "UxKu3kA2i5WH"
      },
      "outputs": [],
      "source": [
        "batch_size = 256\n",
        "\n",
        "trainloader = torch.utils.data.DataLoader(\n",
        "    trainset,\n",
        "    batch_size=batch_size,\n",
        "    shuffle=True\n",
        ")"
      ]
    },
    {
      "cell_type": "markdown",
      "metadata": {
        "id": "z4Qyrm4WlzWt"
      },
      "source": [
        "PyTorch에서는 `DataLoader`가 dataset을 인자로 받아 batch로 나눠줍니다.\n",
        "부가적으로 `batch_size`라는 인자를 통해 batch size를 받고 있으며, `shuffle`이라는 인자를 통해 data들을 섞을지 결정해줍니다.\n",
        "우리는 SGD가 완전 랜덤으로 batch를 구성해야 잘 동작하는 것을 알고 있기 때문에 `shuffle`에 `True`를 넘겨주고 있습니다.\n",
        "\n",
        "다음은 첫 번째 batch를 출력한 모습입니다."
      ]
    },
    {
      "cell_type": "code",
      "execution_count": 11,
      "metadata": {
        "colab": {
          "base_uri": "https://localhost:8080/"
        },
        "id": "_Hd7XxyAvVNz",
        "outputId": "f5f3d960-67fa-4df4-aa26-e9467d107b54"
      },
      "outputs": [
        {
          "name": "stdout",
          "output_type": "stream",
          "text": [
            "torch.Size([256, 3, 32, 32]) torch.Size([256])\n"
          ]
        }
      ],
      "source": [
        "dataiter = iter(trainloader)\n",
        "images, labels = next(dataiter)\n",
        "print(images.shape, labels.shape)"
      ]
    },
    {
      "cell_type": "markdown",
      "metadata": {
        "id": "h0ZY5mDimRUK"
      },
      "source": [
        "`images`는 첫 번째 batch의 image들이고 `labels`는 첫 번째 batch의 label들입니다.\n",
        "위에서 batch size를 64로 설정했기 때문에 총 64개의 image와 label들이 있어야 합니다.\n",
        "실제 shape 출력 결과를 보면 그렇다는 것을 알 수 있습니다.\n",
        "\n",
        "다음은 (n, 1, 28, 28) shape의 image를 입력받아 0~9 사이의 정수 하나를 출력하는 3-layer MLP를 구현합니다."
      ]
    },
    {
      "cell_type": "code",
      "execution_count": 12,
      "metadata": {
        "id": "OLOA-ZGTuVVG"
      },
      "outputs": [],
      "source": [
        "from torch import nn\n",
        "\n",
        "\n",
        "class Model(nn.Module):\n",
        "  def __init__(self, input_dim, n_dim):\n",
        "    super().__init__()\n",
        "\n",
        "    self.layer1 = nn.Linear(input_dim, n_dim)\n",
        "    self.layer2 = nn.Linear(n_dim, n_dim)\n",
        "    self.layer3 = nn.Linear(n_dim, 10)\n",
        "\n",
        "    # self.act = nn.ReLU()\n",
        "    self.act = nn.LeakyReLU()\n",
        "\n",
        "  def forward(self, x):\n",
        "    x = torch.flatten(x, start_dim=1)\n",
        "    x = self.act(self.layer1(x))\n",
        "    x = self.act(self.layer2(x))\n",
        "    x = self.act(self.layer3(x))\n",
        "\n",
        "    return x\n",
        "\n"
      ]
    },
    {
      "cell_type": "markdown",
      "metadata": {
        "id": "tag1rNcwmnAr"
      },
      "source": [
        "이전의 2-layer MLP와 유사한 형태임을 알 수 있습니다.\n",
        "여기서 특이사항은 `forward`의 첫 번째 줄에 `torch.flatten`을 사용한다는 것입니다.\n",
        "`Linear`는 이전에도 봤다시피 (n, d) 형태의 shape을 입력받습니다.\n",
        "이미지는 (n, 1, 28, 28)이기 때문에 (n, 1 * 28 * 28)로 shape을 변환해야 선형 함수에 입력으로 주어줄 수 있게 됩니다.\n",
        "이 역할을 수행하는 것이 바로 `torch.flatten`입니다.\n",
        "우리는 첫 번째 shape인 n을 보존할 것이기 때문에 flatten할 차원은 `start_dim=1`로 넘겨주게 됩니다.\n",
        "\n",
        "다음은 gradient descent를 수행해줄 optimizer를 구현하는 모습입니다."
      ]
    },
    {
      "cell_type": "code",
      "execution_count": 13,
      "metadata": {
        "id": "BlL6waRm3w__"
      },
      "outputs": [],
      "source": [
        "lr = 0.001"
      ]
    },
    {
      "cell_type": "code",
      "execution_count": null,
      "metadata": {
        "id": "ypS0TcOlvBhZ"
      },
      "outputs": [],
      "source": [
        "from torch.optim import SGD\n",
        "\n",
        "model_sgd = Model(32 * 32 * 3, 1024).to('cuda')\n",
        "optimizer_sgd = SGD(model_sgd.parameters(), lr=lr)"
      ]
    },
    {
      "cell_type": "markdown",
      "metadata": {
        "id": "wIeW20bx1_eu"
      },
      "source": [
        "- Adam Optimizer"
      ]
    },
    {
      "cell_type": "code",
      "execution_count": null,
      "metadata": {
        "id": "zVyzUsyJ172S"
      },
      "outputs": [],
      "source": [
        "from torch.optim import Adam\n",
        "\n",
        "model_adam = Model(32 * 32 * 3, 1024).to('cuda')\n",
        "optimizer_adam = Adam(model_adam.parameters(), lr=lr)"
      ]
    },
    {
      "cell_type": "markdown",
      "metadata": {
        "id": "5PooeOKMnRfZ"
      },
      "source": [
        "이전 코드와 거의 똑같습니다. 다른 점은 `model.to('cuda')` 코드를 통해 우리가 구현한 model을 GPU로 옮긴 것입니다.\n",
        "MNIST 부터는 모델과 data가 커지면서 훨씬 많은 행렬 연산이 이루어지기 때문에 GPU를 활용하는 것이 빠릅니다.\n",
        "\n",
        "다음은 model을 MNIST에 학습하는 코드입니다."
      ]
    },
    {
      "cell_type": "markdown",
      "metadata": {
        "id": "7U1bJIK3izSy"
      },
      "source": [
        "- 테스트 데이터"
      ]
    },
    {
      "cell_type": "code",
      "execution_count": 14,
      "metadata": {
        "colab": {
          "base_uri": "https://localhost:8080/"
        },
        "id": "MA3rmPw0iLJK",
        "outputId": "e864a4ac-f57d-402e-bc2a-8265d401cd2d"
      },
      "outputs": [
        {
          "name": "stdout",
          "output_type": "stream",
          "text": [
            "Files already downloaded and verified\n"
          ]
        }
      ],
      "source": [
        "testset = torchvision.datasets.CIFAR10(\n",
        "    root='./data',\n",
        "    train=False,\n",
        "    download=True,\n",
        "    transform=transform\n",
        ")\n",
        "\n",
        "testloader = torch.utils.data.DataLoader(\n",
        "    testset,\n",
        "    batch_size=batch_size,\n",
        "    shuffle=False\n",
        ")"
      ]
    },
    {
      "cell_type": "markdown",
      "metadata": {
        "id": "LMUOle4EiJt1"
      },
      "source": [
        "보조 함수\n"
      ]
    },
    {
      "cell_type": "code",
      "execution_count": 15,
      "metadata": {
        "id": "3ehHNwoYi7h_"
      },
      "outputs": [],
      "source": [
        "def accuracy(model, dataloader):\n",
        "  cnt = 0\n",
        "  acc = 0\n",
        "\n",
        "  for data in dataloader:\n",
        "    inputs, labels = data\n",
        "    inputs, labels = inputs.to('cuda'), labels.to('cuda')\n",
        "\n",
        "    preds = model(inputs)\n",
        "    preds = torch.argmax(preds, dim=-1)\n",
        "\n",
        "    cnt += labels.shape[0]\n",
        "    acc += (labels == preds).sum().item()\n",
        "\n",
        "  return acc / cnt"
      ]
    },
    {
      "cell_type": "code",
      "execution_count": 16,
      "metadata": {
        "id": "4qdrRdCOjAAs"
      },
      "outputs": [],
      "source": [
        "import numpy as np\n",
        "import matplotlib.pyplot as plt\n",
        "\n",
        "def plot_acc(train_accs, test_accs, label1='train', label2='test'):\n",
        "  x = np.arange(len(train_accs))\n",
        "\n",
        "  plt.plot(x, train_accs, label=label1)\n",
        "  plt.plot(x, test_accs, label=label2)\n",
        "  plt.legend()\n",
        "  plt.show()"
      ]
    },
    {
      "cell_type": "code",
      "execution_count": null,
      "metadata": {
        "id": "mVG7YTd-jj5b"
      },
      "outputs": [],
      "source": [
        "sgd_accs = []\n",
        "adam_accs = []"
      ]
    },
    {
      "cell_type": "code",
      "execution_count": null,
      "metadata": {
        "colab": {
          "base_uri": "https://localhost:8080/"
        },
        "id": "TryX1hewvNiB",
        "outputId": "ac07301c-b1ea-44ca-ed69-4b744d20ea59"
      },
      "outputs": [
        {
          "name": "stdout",
          "output_type": "stream",
          "text": [
            "Epoch   0 | Loss(SGD): 450.5166554450989 | Loss(Adam): 433.22097182273865\n",
            "Epoch   1 | Loss(SGD): 449.3428966999054 | Loss(Adam): 390.96919429302216\n",
            "Epoch   2 | Loss(SGD): 448.3219792842865 | Loss(Adam): 367.9145978689194\n",
            "Epoch   3 | Loss(SGD): 447.3608636856079 | Loss(Adam): 352.84621584415436\n",
            "Epoch   4 | Loss(SGD): 446.44680643081665 | Loss(Adam): 341.129630446434\n",
            "Epoch   5 | Loss(SGD): 445.5384712219238 | Loss(Adam): 332.737845659256\n",
            "Epoch   6 | Loss(SGD): 444.5239088535309 | Loss(Adam): 324.55613601207733\n",
            "Epoch   7 | Loss(SGD): 442.8902094364166 | Loss(Adam): 318.8113386631012\n",
            "Epoch   8 | Loss(SGD): 441.3737187385559 | Loss(Adam): 312.0359665155411\n",
            "Epoch   9 | Loss(SGD): 439.86141896247864 | Loss(Adam): 305.9622917175293\n",
            "Epoch  10 | Loss(SGD): 438.36736726760864 | Loss(Adam): 300.43397438526154\n",
            "Epoch  11 | Loss(SGD): 436.89315819740295 | Loss(Adam): 296.312642455101\n",
            "Epoch  12 | Loss(SGD): 435.40212750434875 | Loss(Adam): 289.7235953807831\n",
            "Epoch  13 | Loss(SGD): 433.69809913635254 | Loss(Adam): 286.0880527496338\n",
            "Epoch  14 | Loss(SGD): 431.78848695755005 | Loss(Adam): 281.27805757522583\n",
            "Epoch  15 | Loss(SGD): 429.98991680145264 | Loss(Adam): 277.4498418569565\n",
            "Epoch  16 | Loss(SGD): 428.2255892753601 | Loss(Adam): 274.3804112672806\n",
            "Epoch  17 | Loss(SGD): 426.50581765174866 | Loss(Adam): 269.211168885231\n",
            "Epoch  18 | Loss(SGD): 424.79974150657654 | Loss(Adam): 268.0122505426407\n",
            "Epoch  19 | Loss(SGD): 423.1722528934479 | Loss(Adam): 263.7276793718338\n",
            "Epoch  20 | Loss(SGD): 421.6363172531128 | Loss(Adam): 262.2041064500809\n",
            "Epoch  21 | Loss(SGD): 420.1901514530182 | Loss(Adam): 255.71430253982544\n",
            "Epoch  22 | Loss(SGD): 418.75359296798706 | Loss(Adam): 253.65783834457397\n",
            "Epoch  23 | Loss(SGD): 417.4374017715454 | Loss(Adam): 249.12275779247284\n",
            "Epoch  24 | Loss(SGD): 416.15849781036377 | Loss(Adam): 247.04989290237427\n",
            "Epoch  25 | Loss(SGD): 414.8858573436737 | Loss(Adam): 245.604465842247\n",
            "Epoch  26 | Loss(SGD): 413.7567536830902 | Loss(Adam): 239.73559260368347\n",
            "Epoch  27 | Loss(SGD): 412.3262765407562 | Loss(Adam): 236.42880511283875\n",
            "Epoch  28 | Loss(SGD): 410.0739895105362 | Loss(Adam): 235.8426958322525\n",
            "Epoch  29 | Loss(SGD): 408.207138299942 | Loss(Adam): 230.44570171833038\n",
            "Epoch  30 | Loss(SGD): 406.43844056129456 | Loss(Adam): 227.8933426141739\n",
            "Epoch  31 | Loss(SGD): 404.9104001522064 | Loss(Adam): 225.02959966659546\n",
            "Epoch  32 | Loss(SGD): 403.55556547641754 | Loss(Adam): 225.57563161849976\n",
            "Epoch  33 | Loss(SGD): 402.22638165950775 | Loss(Adam): 220.0266587138176\n",
            "Epoch  34 | Loss(SGD): 399.03912103176117 | Loss(Adam): 215.46689236164093\n",
            "Epoch  35 | Loss(SGD): 395.147828578949 | Loss(Adam): 213.8904065489769\n",
            "Epoch  36 | Loss(SGD): 393.0065612792969 | Loss(Adam): 212.35933923721313\n",
            "Epoch  37 | Loss(SGD): 391.16244196891785 | Loss(Adam): 206.58699667453766\n",
            "Epoch  38 | Loss(SGD): 389.44774413108826 | Loss(Adam): 207.75653153657913\n",
            "Epoch  39 | Loss(SGD): 387.92167580127716 | Loss(Adam): 202.6262992620468\n",
            "Epoch  40 | Loss(SGD): 386.4754101037979 | Loss(Adam): 201.85648477077484\n",
            "Epoch  41 | Loss(SGD): 385.0577642917633 | Loss(Adam): 196.0156592130661\n",
            "Epoch  42 | Loss(SGD): 383.8430563211441 | Loss(Adam): 193.23163253068924\n",
            "Epoch  43 | Loss(SGD): 382.599485039711 | Loss(Adam): 191.91109597682953\n",
            "Epoch  44 | Loss(SGD): 381.4803762435913 | Loss(Adam): 189.71503138542175\n",
            "Epoch  45 | Loss(SGD): 380.4657381772995 | Loss(Adam): 188.08798933029175\n",
            "Epoch  46 | Loss(SGD): 379.45279264450073 | Loss(Adam): 181.499125123024\n",
            "Epoch  47 | Loss(SGD): 378.3651213645935 | Loss(Adam): 182.4596722126007\n",
            "Epoch  48 | Loss(SGD): 377.469202041626 | Loss(Adam): 177.99425959587097\n",
            "Epoch  49 | Loss(SGD): 376.61962509155273 | Loss(Adam): 172.20357710123062\n"
          ]
        }
      ],
      "source": [
        "n_epochs = 50\n",
        "\n",
        "for epoch in range(n_epochs):\n",
        "  total_loss_sgd = 0.\n",
        "  total_loss_adam = 0.\n",
        "\n",
        "  # SGD 학습\n",
        "  for data in trainloader:\n",
        "    model_sgd.zero_grad()\n",
        "\n",
        "    inputs, labels = data\n",
        "    inputs, labels = inputs.to('cuda'), labels.to('cuda')\n",
        "\n",
        "    preds = model_sgd(inputs)\n",
        "    loss = torch.nn.CrossEntropyLoss()(preds, labels)\n",
        "    loss.backward()\n",
        "    optimizer_sgd.step()\n",
        "\n",
        "    total_loss_sgd += loss.item()\n",
        "\n",
        "  sgd_accs.append(accuracy(model_sgd, trainloader))\n",
        "\n",
        "  # Adam 학습\n",
        "  for data in trainloader:\n",
        "    model_adam.zero_grad()\n",
        "\n",
        "    inputs, labels = data\n",
        "    inputs, labels = inputs.to('cuda'), labels.to('cuda')\n",
        "\n",
        "    preds = model_adam(inputs)\n",
        "    loss = torch.nn.CrossEntropyLoss()(preds, labels)\n",
        "    loss.backward()\n",
        "    optimizer_adam.step()\n",
        "\n",
        "    total_loss_adam += loss.item()\n",
        "\n",
        "  adam_accs.append(accuracy(model_adam, trainloader))\n",
        "  print(f\"Epoch {epoch:3d} | Loss(SGD): {total_loss_sgd} | Loss(Adam): {total_loss_adam}\")"
      ]
    },
    {
      "cell_type": "markdown",
      "metadata": {
        "id": "Ut3yFlbCIX8r"
      },
      "source": [
        "**Adam Optimizer**: momentum 덕분에 loss가 빠르게 줄어든다. (경사를 빠르게 내려감)"
      ]
    },
    {
      "cell_type": "markdown",
      "metadata": {
        "id": "XtvgVOlqjZ1Y"
      },
      "source": [
        "- Plot 1"
      ]
    },
    {
      "cell_type": "code",
      "execution_count": null,
      "metadata": {
        "colab": {
          "base_uri": "https://localhost:8080/",
          "height": 430
        },
        "id": "d6M4SpWQoML9",
        "outputId": "5bb59bf0-bfe0-475a-c3f2-da2c22272341"
      },
      "outputs": [
        {
          "data": {
            "image/png": "[encoded data removed]",
            "text/plain": [
              "<Figure size 640x480 with 1 Axes>"
            ]
          },
          "metadata": {},
          "output_type": "display_data"
        }
      ],
      "source": [
        "plot_acc(sgd_accs, adam_accs,'SGD', 'Adam')"
      ]
    },
    {
      "cell_type": "code",
      "execution_count": null,
      "metadata": {
        "id": "fuKvWnyq-EyD"
      },
      "outputs": [],
      "source": [
        "from torch import nn\n",
        "\n",
        "\n",
        "class SigmoidAppliedModel(nn.Module):\n",
        "  def __init__(self, input_dim, n_dim):\n",
        "    super().__init__()\n",
        "\n",
        "    self.layer1 = nn.Linear(input_dim, n_dim)\n",
        "    self.layer2 = nn.Linear(n_dim, n_dim)\n",
        "    self.layer3 = nn.Linear(n_dim, 10)\n",
        "\n",
        "    self.act = nn.Sigmoid()\n",
        "\n",
        "  def forward(self, x):\n",
        "    x = torch.flatten(x, start_dim=1)\n",
        "    x = self.act(self.layer1(x))\n",
        "    x = self.act(self.layer2(x))\n",
        "    x = self.act(self.layer3(x))\n",
        "\n",
        "    return x\n"
      ]
    },
    {
      "cell_type": "code",
      "execution_count": null,
      "metadata": {
        "id": "ZpzDscLB-Sdn"
      },
      "outputs": [],
      "source": [
        "from torch.optim import Adam\n",
        "\n",
        "model_leaky_relu = Model(32 * 32 * 3, 1024).to('cuda')\n",
        "optimizer_leaky_relu = Adam(model_leaky_relu.parameters(), lr=lr)\n",
        "\n",
        "model_sigmoid = SigmoidAppliedModel(32 * 32 * 3, 1024).to('cuda')\n",
        "optimizer_sigmoid = Adam(model_sigmoid.parameters(), lr=lr)"
      ]
    },
    {
      "cell_type": "code",
      "execution_count": null,
      "metadata": {
        "id": "SzqjwOnQ9zGa"
      },
      "outputs": [],
      "source": [
        "leaky_relu_accs = []\n",
        "sigmoid_accs = []"
      ]
    },
    {
      "cell_type": "code",
      "execution_count": null,
      "metadata": {
        "colab": {
          "base_uri": "https://localhost:8080/"
        },
        "id": "k8QKKAb5-5J5",
        "outputId": "4cacc03f-79c8-4b3c-9722-a631faa5ba10"
      },
      "outputs": [
        {
          "name": "stdout",
          "output_type": "stream",
          "text": [
            "Epoch   0 | Loss(Leaky ReLU): 426.92624056339264 | Loss(Sigmoid): 411.35438144207\n",
            "Epoch   1 | Loss(Leaky ReLU): 388.99352622032166 | Loss(Sigmoid): 392.81903100013733\n",
            "Epoch   2 | Loss(Leaky ReLU): 367.33411502838135 | Loss(Sigmoid): 387.3060268163681\n",
            "Epoch   3 | Loss(Leaky ReLU): 351.21994960308075 | Loss(Sigmoid): 383.57854545116425\n",
            "Epoch   4 | Loss(Leaky ReLU): 339.30586528778076 | Loss(Sigmoid): 381.27896666526794\n",
            "Epoch   5 | Loss(Leaky ReLU): 329.37418270111084 | Loss(Sigmoid): 379.2812730073929\n",
            "Epoch   6 | Loss(Leaky ReLU): 320.0384829044342 | Loss(Sigmoid): 377.80684089660645\n",
            "Epoch   7 | Loss(Leaky ReLU): 312.6804563999176 | Loss(Sigmoid): 375.99050199985504\n",
            "Epoch   8 | Loss(Leaky ReLU): 305.8554480075836 | Loss(Sigmoid): 374.4010329246521\n",
            "Epoch   9 | Loss(Leaky ReLU): 300.8581665754318 | Loss(Sigmoid): 373.1988353729248\n",
            "Epoch  10 | Loss(Leaky ReLU): 295.46444725990295 | Loss(Sigmoid): 371.84227085113525\n",
            "Epoch  11 | Loss(Leaky ReLU): 288.8241184949875 | Loss(Sigmoid): 371.3368446826935\n",
            "Epoch  12 | Loss(Leaky ReLU): 285.3874660730362 | Loss(Sigmoid): 369.53946805000305\n",
            "Epoch  13 | Loss(Leaky ReLU): 281.5418629646301 | Loss(Sigmoid): 369.19479525089264\n",
            "Epoch  14 | Loss(Leaky ReLU): 275.59395253658295 | Loss(Sigmoid): 368.42988526821136\n",
            "Epoch  15 | Loss(Leaky ReLU): 273.39070188999176 | Loss(Sigmoid): 367.46036183834076\n",
            "Epoch  16 | Loss(Leaky ReLU): 268.7971682548523 | Loss(Sigmoid): 367.01860189437866\n",
            "Epoch  17 | Loss(Leaky ReLU): 264.636442899704 | Loss(Sigmoid): 366.38196074962616\n",
            "Epoch  18 | Loss(Leaky ReLU): 262.63136518001556 | Loss(Sigmoid): 365.2499680519104\n",
            "Epoch  19 | Loss(Leaky ReLU): 259.384139418602 | Loss(Sigmoid): 364.62245321273804\n",
            "Epoch  20 | Loss(Leaky ReLU): 255.1565821170807 | Loss(Sigmoid): 363.4624819755554\n",
            "Epoch  21 | Loss(Leaky ReLU): 250.4536588191986 | Loss(Sigmoid): 363.05621695518494\n",
            "Epoch  22 | Loss(Leaky ReLU): 247.74537205696106 | Loss(Sigmoid): 363.2603647708893\n",
            "Epoch  23 | Loss(Leaky ReLU): 243.97684502601624 | Loss(Sigmoid): 362.8133145570755\n",
            "Epoch  24 | Loss(Leaky ReLU): 240.32419419288635 | Loss(Sigmoid): 362.3252657651901\n",
            "Epoch  25 | Loss(Leaky ReLU): 239.22183644771576 | Loss(Sigmoid): 361.34155774116516\n",
            "Epoch  26 | Loss(Leaky ReLU): 234.55514752864838 | Loss(Sigmoid): 360.70991027355194\n",
            "Epoch  27 | Loss(Leaky ReLU): 233.7461326122284 | Loss(Sigmoid): 359.8451577425003\n",
            "Epoch  28 | Loss(Leaky ReLU): 229.04140877723694 | Loss(Sigmoid): 359.1703208684921\n",
            "Epoch  29 | Loss(Leaky ReLU): 226.74348628520966 | Loss(Sigmoid): 359.2199761867523\n",
            "Epoch  30 | Loss(Leaky ReLU): 222.4486722946167 | Loss(Sigmoid): 358.93677043914795\n",
            "Epoch  31 | Loss(Leaky ReLU): 219.8341841697693 | Loss(Sigmoid): 357.99468863010406\n",
            "Epoch  32 | Loss(Leaky ReLU): 219.30973029136658 | Loss(Sigmoid): 357.4692836999893\n",
            "Epoch  33 | Loss(Leaky ReLU): 216.30686861276627 | Loss(Sigmoid): 357.4450316429138\n",
            "Epoch  34 | Loss(Leaky ReLU): 211.17470276355743 | Loss(Sigmoid): 356.39604330062866\n",
            "Epoch  35 | Loss(Leaky ReLU): 206.96812391281128 | Loss(Sigmoid): 356.95104002952576\n",
            "Epoch  36 | Loss(Leaky ReLU): 203.42487561702728 | Loss(Sigmoid): 356.04015159606934\n",
            "Epoch  37 | Loss(Leaky ReLU): 200.71984255313873 | Loss(Sigmoid): 355.86168587207794\n",
            "Epoch  38 | Loss(Leaky ReLU): 199.10453182458878 | Loss(Sigmoid): 356.02752661705017\n",
            "Epoch  39 | Loss(Leaky ReLU): 195.92813313007355 | Loss(Sigmoid): 355.6815929412842\n",
            "Epoch  40 | Loss(Leaky ReLU): 195.1268972158432 | Loss(Sigmoid): 356.20417881011963\n",
            "Epoch  41 | Loss(Leaky ReLU): 189.16148906946182 | Loss(Sigmoid): 355.2961183786392\n",
            "Epoch  42 | Loss(Leaky ReLU): 187.99585670232773 | Loss(Sigmoid): 354.8689455986023\n",
            "Epoch  43 | Loss(Leaky ReLU): 188.1993483901024 | Loss(Sigmoid): 354.55379986763\n",
            "Epoch  44 | Loss(Leaky ReLU): 180.01535540819168 | Loss(Sigmoid): 353.9843522310257\n",
            "Epoch  45 | Loss(Leaky ReLU): 182.00250709056854 | Loss(Sigmoid): 353.0388160943985\n",
            "Epoch  46 | Loss(Leaky ReLU): 174.49598026275635 | Loss(Sigmoid): 352.9566354751587\n",
            "Epoch  47 | Loss(Leaky ReLU): 176.93780475854874 | Loss(Sigmoid): 352.3471518754959\n",
            "Epoch  48 | Loss(Leaky ReLU): 169.3540003299713 | Loss(Sigmoid): 352.26596224308014\n",
            "Epoch  49 | Loss(Leaky ReLU): 172.16397428512573 | Loss(Sigmoid): 352.1494332551956\n"
          ]
        }
      ],
      "source": [
        "n_epochs = 50\n",
        "\n",
        "for epoch in range(n_epochs):\n",
        "  total_loss_leaky_relu = 0.\n",
        "  total_loss_sigmoid = 0.\n",
        "\n",
        "  # Leaky ReLU 학습\n",
        "  for data in trainloader:\n",
        "    model_leaky_relu.zero_grad()\n",
        "\n",
        "    inputs, labels = data\n",
        "    inputs, labels = inputs.to('cuda'), labels.to('cuda')\n",
        "\n",
        "    preds = model_leaky_relu(inputs)\n",
        "    loss = torch.nn.CrossEntropyLoss()(preds, labels)\n",
        "    loss.backward()\n",
        "    optimizer_leaky_relu.step()\n",
        "\n",
        "    total_loss_leaky_relu += loss.item()\n",
        "\n",
        "  leaky_relu_accs.append(accuracy(model_leaky_relu, trainloader))\n",
        "\n",
        "  # Sigmoid 학습\n",
        "  for data in trainloader:\n",
        "    model_sigmoid.zero_grad()\n",
        "\n",
        "    inputs, labels = data\n",
        "    inputs, labels = inputs.to('cuda'), labels.to('cuda')\n",
        "\n",
        "    preds = model_sigmoid(inputs)\n",
        "    loss = torch.nn.CrossEntropyLoss()(preds, labels)\n",
        "    loss.backward()\n",
        "    optimizer_sigmoid.step()\n",
        "\n",
        "    total_loss_sigmoid += loss.item()\n",
        "\n",
        "  sigmoid_accs.append(accuracy(model_sigmoid, trainloader))\n",
        "  print(f\"Epoch {epoch:3d} | Loss(Leaky ReLU): {total_loss_leaky_relu} | Loss(Sigmoid): {total_loss_sigmoid}\")"
      ]
    },
    {
      "cell_type": "markdown",
      "metadata": {
        "id": "3joTB4EGGwfd"
      },
      "source": [
        "**Sigmoid**: Gradient Vanishing 때문인지, loss가 느리게 줄어든다."
      ]
    },
    {
      "cell_type": "markdown",
      "metadata": {
        "id": "BEVMaA8iALTg"
      },
      "source": [
        "- Plot 2"
      ]
    },
    {
      "cell_type": "code",
      "execution_count": null,
      "metadata": {
        "colab": {
          "base_uri": "https://localhost:8080/",
          "height": 430
        },
        "id": "QJ2gbGuO9p9i",
        "outputId": "72fb98d8-8e69-4634-fb00-bc6d094d924c"
      },
      "outputs": [
        {
          "data": {
            "image/png": "[encoded data removed]",
            "text/plain": [
              "<Figure size 640x480 with 1 Axes>"
            ]
          },
          "metadata": {},
          "output_type": "display_data"
        }
      ],
      "source": [
        "plot_acc(leaky_relu_accs, sigmoid_accs,'Leaky ReLU', 'Sigmoid')"
      ]
    },
    {
      "cell_type": "code",
      "execution_count": 17,
      "metadata": {
        "id": "JKp6r03nH1Zt"
      },
      "outputs": [],
      "source": [
        "from torch import nn\n",
        "\n",
        "\n",
        "class DroppedOutModel(nn.Module):\n",
        "  def __init__(self, input_dim, n_dim):\n",
        "    super().__init__()\n",
        "\n",
        "    self.layer1 = nn.Linear(input_dim, n_dim)\n",
        "    self.layer2 = nn.Linear(n_dim, n_dim)\n",
        "    self.layer3 = nn.Linear(n_dim, 10)\n",
        "\n",
        "    self.dropout = nn.Dropout(0.1)\n",
        "    self.act = nn.LeakyReLU()\n",
        "\n",
        "  def forward(self, x):\n",
        "    x = torch.flatten(x, start_dim=1)\n",
        "    x = self.dropout(self.act(self.layer1(x)))\n",
        "    x = self.dropout(self.act(self.layer2(x)))\n",
        "    x = self.dropout(self.act(self.layer3(x)))\n",
        "\n",
        "    return x"
      ]
    },
    {
      "cell_type": "code",
      "execution_count": 18,
      "metadata": {
        "id": "WLVEzCTzJdsE"
      },
      "outputs": [],
      "source": [
        "from torch.optim import Adam\n",
        "\n",
        "model_non_dropped_out = Model(32 * 32 * 3, 1024).to('cuda')\n",
        "optimizer_non_dropped_out = Adam(model_non_dropped_out.parameters(), lr=lr)\n",
        "\n",
        "model_dropped_out = DroppedOutModel(32 * 32 * 3, 1024).to('cuda')\n",
        "optimizer_dropped_out = Adam(model_dropped_out.parameters(), lr=lr)"
      ]
    },
    {
      "cell_type": "code",
      "execution_count": 19,
      "metadata": {
        "id": "9WTrnaz_Jb67"
      },
      "outputs": [],
      "source": [
        "non_dropped_out_train_accs = []\n",
        "non_dropped_out_test_accs = []\n",
        "dropped_out_train_accs = []\n",
        "dropped_out_test_accs = []"
      ]
    },
    {
      "cell_type": "code",
      "execution_count": 20,
      "metadata": {
        "colab": {
          "base_uri": "https://localhost:8080/"
        },
        "id": "NmrjBizEKQUq",
        "outputId": "2a183fe8-1f2f-428b-f50e-afb1231f8177"
      },
      "outputs": [
        {
          "name": "stdout",
          "output_type": "stream",
          "text": [
            "Epoch   0 | Loss(non dropped out): 433.0431203842163 | Loss(dropped out): 437.5108149051666\n",
            "Epoch   1 | Loss(non dropped out): 397.6385387182236 | Loss(dropped out): 415.1635265350342\n",
            "Epoch   2 | Loss(non dropped out): 373.5008542537689 | Loss(dropped out): 405.177507519722\n",
            "Epoch   3 | Loss(non dropped out): 355.5677568912506 | Loss(dropped out): 395.1896963119507\n",
            "Epoch   4 | Loss(non dropped out): 341.50872254371643 | Loss(dropped out): 387.891889333725\n",
            "Epoch   5 | Loss(non dropped out): 331.3294680118561 | Loss(dropped out): 383.59517002105713\n",
            "Epoch   6 | Loss(non dropped out): 323.7735493183136 | Loss(dropped out): 376.842067360878\n",
            "Epoch   7 | Loss(non dropped out): 314.64888203144073 | Loss(dropped out): 372.09888768196106\n",
            "Epoch   8 | Loss(non dropped out): 305.89388501644135 | Loss(dropped out): 368.9441442489624\n",
            "Epoch   9 | Loss(non dropped out): 299.7739186286926 | Loss(dropped out): 365.66055059432983\n",
            "Epoch  10 | Loss(non dropped out): 294.31258606910706 | Loss(dropped out): 363.25479078292847\n",
            "Epoch  11 | Loss(non dropped out): 289.8979321718216 | Loss(dropped out): 359.18388998508453\n",
            "Epoch  12 | Loss(non dropped out): 283.66348671913147 | Loss(dropped out): 358.16396260261536\n",
            "Epoch  13 | Loss(non dropped out): 280.49483466148376 | Loss(dropped out): 355.03858256340027\n",
            "Epoch  14 | Loss(non dropped out): 277.9004907608032 | Loss(dropped out): 352.81468892097473\n",
            "Epoch  15 | Loss(non dropped out): 274.4276099205017 | Loss(dropped out): 350.81929540634155\n",
            "Epoch  16 | Loss(non dropped out): 269.86425054073334 | Loss(dropped out): 347.26113414764404\n",
            "Epoch  17 | Loss(non dropped out): 265.17044854164124 | Loss(dropped out): 346.2972551584244\n",
            "Epoch  18 | Loss(non dropped out): 263.1098186969757 | Loss(dropped out): 344.2239923477173\n",
            "Epoch  19 | Loss(non dropped out): 258.2567662000656 | Loss(dropped out): 343.50705802440643\n",
            "Epoch  20 | Loss(non dropped out): 255.24008238315582 | Loss(dropped out): 341.6449360847473\n",
            "Epoch  21 | Loss(non dropped out): 252.5668466091156 | Loss(dropped out): 339.5689055919647\n",
            "Epoch  22 | Loss(non dropped out): 247.5827980041504 | Loss(dropped out): 337.764014005661\n",
            "Epoch  23 | Loss(non dropped out): 248.25449216365814 | Loss(dropped out): 335.1194326877594\n",
            "Epoch  24 | Loss(non dropped out): 242.95057451725006 | Loss(dropped out): 333.78609573841095\n",
            "Epoch  25 | Loss(non dropped out): 239.2148381471634 | Loss(dropped out): 332.1516650915146\n",
            "Epoch  26 | Loss(non dropped out): 237.31654679775238 | Loss(dropped out): 332.8044294118881\n",
            "Epoch  27 | Loss(non dropped out): 232.92119932174683 | Loss(dropped out): 330.8642792701721\n",
            "Epoch  28 | Loss(non dropped out): 230.8104408979416 | Loss(dropped out): 328.69062626361847\n",
            "Epoch  29 | Loss(non dropped out): 227.17383915185928 | Loss(dropped out): 326.73386240005493\n",
            "Epoch  30 | Loss(non dropped out): 226.52812814712524 | Loss(dropped out): 327.4996418952942\n",
            "Epoch  31 | Loss(non dropped out): 221.09740263223648 | Loss(dropped out): 324.2698972225189\n",
            "Epoch  32 | Loss(non dropped out): 218.94572639465332 | Loss(dropped out): 322.24188911914825\n",
            "Epoch  33 | Loss(non dropped out): 220.44533908367157 | Loss(dropped out): 323.54361736774445\n",
            "Epoch  34 | Loss(non dropped out): 211.9100942015648 | Loss(dropped out): 321.8525764942169\n",
            "Epoch  35 | Loss(non dropped out): 209.93940126895905 | Loss(dropped out): 319.9047632217407\n",
            "Epoch  36 | Loss(non dropped out): 207.5425226688385 | Loss(dropped out): 319.825187087059\n",
            "Epoch  37 | Loss(non dropped out): 205.68894362449646 | Loss(dropped out): 318.10581707954407\n",
            "Epoch  38 | Loss(non dropped out): 203.75442934036255 | Loss(dropped out): 317.59774518013\n",
            "Epoch  39 | Loss(non dropped out): 198.94379323720932 | Loss(dropped out): 318.08220064640045\n",
            "Epoch  40 | Loss(non dropped out): 193.81885415315628 | Loss(dropped out): 314.0026431083679\n",
            "Epoch  41 | Loss(non dropped out): 190.97244828939438 | Loss(dropped out): 315.5429149866104\n",
            "Epoch  42 | Loss(non dropped out): 192.14931797981262 | Loss(dropped out): 314.7850433588028\n",
            "Epoch  43 | Loss(non dropped out): 185.64954710006714 | Loss(dropped out): 313.6439861059189\n",
            "Epoch  44 | Loss(non dropped out): 186.35451924800873 | Loss(dropped out): 310.160662651062\n",
            "Epoch  45 | Loss(non dropped out): 178.7327864766121 | Loss(dropped out): 311.05486381053925\n",
            "Epoch  46 | Loss(non dropped out): 178.11846947669983 | Loss(dropped out): 308.11419451236725\n",
            "Epoch  47 | Loss(non dropped out): 172.78624933958054 | Loss(dropped out): 308.6744838953018\n",
            "Epoch  48 | Loss(non dropped out): 173.3651470541954 | Loss(dropped out): 306.6975265741348\n",
            "Epoch  49 | Loss(non dropped out): 189.15279787778854 | Loss(dropped out): 304.35241162776947\n"
          ]
        }
      ],
      "source": [
        "n_epochs = 50\n",
        "\n",
        "for epoch in range(n_epochs):\n",
        "  total_loss_non_dropped_out = 0.\n",
        "  total_loss_dropped_out = 0.\n",
        "\n",
        "  # Drop Out 미적용\n",
        "  for data in trainloader:\n",
        "    model_non_dropped_out.zero_grad()\n",
        "\n",
        "    inputs, labels = data\n",
        "    inputs, labels = inputs.to('cuda'), labels.to('cuda')\n",
        "\n",
        "    preds = model_non_dropped_out(inputs)\n",
        "    loss = torch.nn.CrossEntropyLoss()(preds, labels)\n",
        "    loss.backward()\n",
        "    optimizer_non_dropped_out.step()\n",
        "\n",
        "    total_loss_non_dropped_out += loss.item()\n",
        "\n",
        "  non_dropped_out_train_accs.append(\n",
        "      accuracy(model_non_dropped_out, trainloader))\n",
        "  non_dropped_out_test_accs.append(\n",
        "      accuracy(model_non_dropped_out, testloader))\n",
        "\n",
        "  # Drop Out 적용\n",
        "  model_dropped_out.train()\n",
        "  for data in trainloader:\n",
        "    model_dropped_out.zero_grad()\n",
        "\n",
        "    inputs, labels = data\n",
        "    inputs, labels = inputs.to('cuda'), labels.to('cuda')\n",
        "\n",
        "    preds = model_dropped_out(inputs)\n",
        "    loss = torch.nn.CrossEntropyLoss()(preds, labels)\n",
        "    loss.backward()\n",
        "    optimizer_dropped_out.step()\n",
        "\n",
        "    total_loss_dropped_out += loss.item()\n",
        "\n",
        "  with torch.no_grad():\n",
        "    model_dropped_out.eval()\n",
        "    dropped_out_train_accs.append(\n",
        "        accuracy(model_dropped_out, trainloader))\n",
        "    dropped_out_test_accs.append(\n",
        "        accuracy(model_dropped_out, testloader))\n",
        "\n",
        "  print(f\"Epoch {epoch:3d} | Loss(non dropped out): {total_loss_non_dropped_out} | Loss(dropped out): {total_loss_dropped_out}\")"
      ]
    },
    {
      "cell_type": "markdown",
      "metadata": {
        "id": "GVOXx3WPL35g"
      },
      "source": [
        "- Plot 3"
      ]
    },
    {
      "cell_type": "markdown",
      "metadata": {
        "id": "XtvN7hGfSkJz"
      },
      "source": [
        "Non dropped out"
      ]
    },
    {
      "cell_type": "code",
      "execution_count": 21,
      "metadata": {
        "colab": {
          "base_uri": "https://localhost:8080/",
          "height": 430
        },
        "id": "On4Kz6kxSodj",
        "outputId": "f833ba63-dab0-4674-f0f5-8afd793f19af"
      },
      "outputs": [
        {
          "data": {
            "image/png": "[encoded data removed]",
            "text/plain": [
              "<Figure size 640x480 with 1 Axes>"
            ]
          },
          "metadata": {},
          "output_type": "display_data"
        }
      ],
      "source": [
        "plot_acc(\n",
        "  non_dropped_out_train_accs,\n",
        "  non_dropped_out_test_accs)"
      ]
    },
    {
      "cell_type": "markdown",
      "metadata": {
        "id": "0sQ0mA0vSoyV"
      },
      "source": [
        "Dropped out"
      ]
    },
    {
      "cell_type": "code",
      "execution_count": 22,
      "metadata": {
        "colab": {
          "base_uri": "https://localhost:8080/",
          "height": 430
        },
        "id": "5y-GKJE3Sx6a",
        "outputId": "3d08f2e7-5181-406e-c1eb-6a92d3655b49"
      },
      "outputs": [
        {
          "data": {
            "image/png": "[encoded data removed]",
            "text/plain": [
              "<Figure size 640x480 with 1 Axes>"
            ]
          },
          "metadata": {},
          "output_type": "display_data"
        }
      ],
      "source": [
        "plot_acc(\n",
        "  dropped_out_train_accs,\n",
        "  dropped_out_test_accs)"
      ]
    },
    {
      "cell_type": "markdown",
      "metadata": {
        "id": "Q4XeNC-tixMf"
      },
      "source": [
        "- drop out 적용하지 않는 경우\n",
        "  - train 데이터에 한해서, 정확도가 약 70% 까지 올랐지만,\n",
        "  - 50 epoch 기준 test 데이터와 20% 정도 차이나므로 과적합이다.\n",
        "- drop out 적용한 경우\n",
        "  - neuron이 무작위로 비활성화 되어서인지, loss가 느리게 줄어든다. (학습이 느림)\n",
        "  - test와 train의 차이가 많이 줄어들었다. (generalized)"
      ]
    }
  ],
  "metadata": {
    "accelerator": "GPU",
    "colab": {
      "gpuType": "A100",
      "machine_shape": "hm",
      "provenance": []
    },
    "kernelspec": {
      "display_name": "Python 3",
      "name": "python3"
    },
    "language_info": {
      "name": "python"
    }
  },
  "nbformat": 4,
  "nbformat_minor": 0
}
