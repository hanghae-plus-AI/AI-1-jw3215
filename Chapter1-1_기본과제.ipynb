{
  "cells": [
    {
      "cell_type": "markdown",
      "metadata": {
        "id": "OPJenlrhihrh"
      },
      "source": [
        "# MNIST 실습\n",
        "\n",
        "이번에는 28x28 흑백 손글씨 이미지를 보고 0~9 사이의 숫자 중 어떤 숫자를 쓴 것인지 예측하는 문제를 실습합니다.\n",
        "이번 실습에서는 GPU를 활용할 것이기 때문에, 이전 챕터에서 Colab에서 GPU를 설정하는 방법을 따라해주시길 바랍니다.\n",
        "\n",
        "GPU를 설정했으면 library들을 import합니다."
      ]
    },
    {
      "cell_type": "code",
      "execution_count": 1,
      "metadata": {
        "id": "6lXVfXoDtoQh"
      },
      "outputs": [],
      "source": [
        "import torch\n",
        "import torchvision\n",
        "import torchvision.transforms as transforms"
      ]
    },
    {
      "cell_type": "markdown",
      "metadata": {
        "id": "pF-1zQvmiult"
      },
      "source": [
        "다음은 dataset을 준비합니다. 손글씨 dataset은 MNIST라는 유명한 dataset이 있습니다. 이 dataset은 `torchvision`에서 제공하고 있으며, 다음과 같이 다운로드 받을 수 있습니다."
      ]
    },
    {
      "cell_type": "code",
      "execution_count": 2,
      "metadata": {
        "id": "KAYlqPaRt6ti"
      },
      "outputs": [],
      "source": [
        "transform = transforms.ToTensor()\n",
        "\n",
        "trainset = torchvision.datasets.MNIST(\n",
        "    root='./data',\n",
        "    train=True,\n",
        "    download=True,\n",
        "    transform=transform\n",
        ")"
      ]
    },
    {
      "cell_type": "markdown",
      "metadata": {
        "id": "p-GqH7_ZjVMs"
      },
      "source": [
        "MNIST는 손글씨 사진과 어떤 숫자를 의미하는지에 대한 label의 pair들로 구성되어있습니다.\n",
        "이 때, 우리는 PyTorch model을 사용할 것이기 때문에 손글씨 사진들을 모두 tensor로 변환해야합니다.\n",
        "이러한 부가적인 변환들은 `torchvision.transforms`에서 제공하고 있으며, `torchvision.datasets.MNIST`에서 `transform` 인자로 받을 수 있습니다.\n",
        "우리는 단순히 사진을 tensor로 바꾸고 싶기 때문에 `transforms.ToTensor()` transformation을 넘겨줍니다.\n",
        "\n",
        "다음은 전체 data의 개수와 첫 번째 data를 출력한 결과입니다."
      ]
    },
    {
      "cell_type": "code",
      "execution_count": 3,
      "metadata": {
        "colab": {
          "base_uri": "https://localhost:8080/",
          "height": 484
        },
        "id": "Zsp3sHmojyhT",
        "outputId": "d7715181-7495-4eb1-d693-8f524403fa3a"
      },
      "outputs": [
        {
          "name": "stdout",
          "output_type": "stream",
          "text": [
            "60000\n",
            "torch.Size([1, 28, 28]) 5\n"
          ]
        },
        {
          "data": {
            "text/plain": [
              "<matplotlib.image.AxesImage at 0x7b1a53143a60>"
            ]
          },
          "execution_count": 3,
          "metadata": {},
          "output_type": "execute_result"
        },
        {
          "data": {
            "image/png": "[encoded data removed]",
            "text/plain": [
              "<Figure size 640x480 with 1 Axes>"
            ]
          },
          "metadata": {},
          "output_type": "display_data"
        }
      ],
      "source": [
        "from matplotlib import pyplot as plt\n",
        "\n",
        "\n",
        "print(len(trainset))\n",
        "print(trainset[0][0].shape, trainset[0][1])\n",
        "plt.imshow(trainset[0][0][0], cmap='gray')"
      ]
    },
    {
      "cell_type": "markdown",
      "metadata": {
        "id": "udm8wDBsi301"
      },
      "source": [
        "첫 번째 출력결과를 통해 우리는 6만장의 손글씨 data가 있는 것을 알 수 있습니다.\n",
        "그리고 두 번째 출력결과를 통해 첫 번째 data의 shape은 (1, 28, 28)이고 5라는 숫자를 쓴 사진이라는 것을 알 수 있습니다.\n",
        "마지막으로 `plt.imshow`를 통해 visualize 했을 때 5라는 숫자가 나오는 것을 알 수 있습니다.\n",
        "\n",
        "다음은 SGD를 위해 dataset을 여러 개의 batch로 나누는 과정을 PyTorch로 구현한 모습입니다."
      ]
    },
    {
      "cell_type": "code",
      "execution_count": 4,
      "metadata": {
        "id": "UxKu3kA2i5WH"
      },
      "outputs": [],
      "source": [
        "batch_size = 256\n",
        "\n",
        "trainloader = torch.utils.data.DataLoader(\n",
        "    trainset,\n",
        "    batch_size=batch_size,\n",
        "    shuffle=True\n",
        ")"
      ]
    },
    {
      "cell_type": "markdown",
      "metadata": {
        "id": "z4Qyrm4WlzWt"
      },
      "source": [
        "PyTorch에서는 `DataLoader`가 dataset을 인자로 받아 batch로 나눠줍니다.\n",
        "부가적으로 `batch_size`라는 인자를 통해 batch size를 받고 있으며, `shuffle`이라는 인자를 통해 data들을 섞을지 결정해줍니다.\n",
        "우리는 SGD가 완전 랜덤으로 batch를 구성해야 잘 동작하는 것을 알고 있기 때문에 `shuffle`에 `True`를 넘겨주고 있습니다.\n",
        "\n",
        "다음은 첫 번째 batch를 출력한 모습입니다."
      ]
    },
    {
      "cell_type": "code",
      "execution_count": 5,
      "metadata": {
        "colab": {
          "base_uri": "https://localhost:8080/"
        },
        "id": "_Hd7XxyAvVNz",
        "outputId": "bb67e20c-41bd-4d45-dd13-8fa9c4779e88"
      },
      "outputs": [
        {
          "name": "stdout",
          "output_type": "stream",
          "text": [
            "torch.Size([256, 1, 28, 28]) torch.Size([256])\n"
          ]
        }
      ],
      "source": [
        "dataiter = iter(trainloader)\n",
        "images, labels = next(dataiter)\n",
        "print(images.shape, labels.shape)"
      ]
    },
    {
      "cell_type": "markdown",
      "metadata": {
        "id": "h0ZY5mDimRUK"
      },
      "source": [
        "`images`는 첫 번째 batch의 image들이고 `labels`는 첫 번째 batch의 label들입니다.\n",
        "위에서 batch size를 64로 설정했기 때문에 총 64개의 image와 label들이 있어야 합니다.\n",
        "실제 shape 출력 결과를 보면 그렇다는 것을 알 수 있습니다.\n",
        "\n",
        "다음은 (n, 1, 28, 28) shape의 image를 입력받아 0~9 사이의 정수 하나를 출력하는 3-layer MLP를 구현합니다."
      ]
    },
    {
      "cell_type": "code",
      "execution_count": 6,
      "metadata": {
        "id": "OLOA-ZGTuVVG"
      },
      "outputs": [],
      "source": [
        "from torch import nn\n",
        "\n",
        "\n",
        "class Model(nn.Module):\n",
        "  def __init__(self, input_dim, n_dim):\n",
        "    super().__init__()\n",
        "\n",
        "    self.layer1 = nn.Linear(input_dim, n_dim)\n",
        "    self.layer2 = nn.Linear(n_dim, n_dim)\n",
        "    self.layer3 = nn.Linear(n_dim, 10)\n",
        "\n",
        "    self.act = nn.ReLU()\n",
        "\n",
        "  def forward(self, x):\n",
        "    x = torch.flatten(x, start_dim=1)\n",
        "    x = self.act(self.layer1(x))\n",
        "    x = self.act(self.layer2(x))\n",
        "    x = self.act(self.layer3(x))\n",
        "\n",
        "    return x\n",
        "\n",
        "\n",
        "model = Model(28 * 28 * 1, 1024)"
      ]
    },
    {
      "cell_type": "markdown",
      "metadata": {
        "id": "tag1rNcwmnAr"
      },
      "source": [
        "이전의 2-layer MLP와 유사한 형태임을 알 수 있습니다.\n",
        "여기서 특이사항은 `forward`의 첫 번째 줄에 `torch.flatten`을 사용한다는 것입니다.\n",
        "`Linear`는 이전에도 봤다시피 (n, d) 형태의 shape을 입력받습니다.\n",
        "이미지는 (n, 1, 28, 28)이기 때문에 (n, 1 * 28 * 28)로 shape을 변환해야 선형 함수에 입력으로 주어줄 수 있게 됩니다.\n",
        "이 역할을 수행하는 것이 바로 `torch.flatten`입니다.\n",
        "우리는 첫 번째 shape인 n을 보존할 것이기 때문에 flatten할 차원은 `start_dim=1`로 넘겨주게 됩니다.\n",
        "\n",
        "다음은 gradient descent를 수행해줄 optimizer를 구현하는 모습입니다."
      ]
    },
    {
      "cell_type": "code",
      "execution_count": 7,
      "metadata": {
        "id": "ypS0TcOlvBhZ"
      },
      "outputs": [],
      "source": [
        "from torch.optim import SGD\n",
        "\n",
        "lr = 0.001\n",
        "model = model.to('cuda')\n",
        "\n",
        "optimizer = SGD(model.parameters(), lr=lr)"
      ]
    },
    {
      "cell_type": "markdown",
      "metadata": {
        "id": "5PooeOKMnRfZ"
      },
      "source": [
        "이전 코드와 거의 똑같습니다. 다른 점은 `model.to('cuda')` 코드를 통해 우리가 구현한 model을 GPU로 옮긴 것입니다.\n",
        "MNIST 부터는 모델과 data가 커지면서 훨씬 많은 행렬 연산이 이루어지기 때문에 GPU를 활용하는 것이 빠릅니다.\n",
        "\n",
        "다음은 model을 MNIST에 학습하는 코드입니다."
      ]
    },
    {
      "cell_type": "markdown",
      "metadata": {
        "id": "7U1bJIK3izSy"
      },
      "source": [
        "- 테스트 데이터"
      ]
    },
    {
      "cell_type": "code",
      "execution_count": 8,
      "metadata": {
        "id": "MA3rmPw0iLJK"
      },
      "outputs": [],
      "source": [
        "testset = torchvision.datasets.MNIST(\n",
        "    root='./data',\n",
        "    train=False,\n",
        "    download=True,\n",
        "    transform=transform\n",
        ")\n",
        "\n",
        "testloader = torch.utils.data.DataLoader(\n",
        "    testset,\n",
        "    batch_size=batch_size,\n",
        "    shuffle=False\n",
        ")"
      ]
    },
    {
      "cell_type": "markdown",
      "metadata": {
        "id": "LMUOle4EiJt1"
      },
      "source": [
        "보조 함수\n"
      ]
    },
    {
      "cell_type": "code",
      "execution_count": 9,
      "metadata": {
        "id": "3ehHNwoYi7h_"
      },
      "outputs": [],
      "source": [
        "def accuracy(model, dataloader):\n",
        "  cnt = 0\n",
        "  acc = 0\n",
        "\n",
        "  for data in dataloader:\n",
        "    inputs, labels = data\n",
        "    inputs, labels = inputs.to('cuda'), labels.to('cuda')\n",
        "\n",
        "    preds = model(inputs)\n",
        "    preds = torch.argmax(preds, dim=-1)\n",
        "\n",
        "    cnt += labels.shape[0]\n",
        "    acc += (labels == preds).sum().item()\n",
        "\n",
        "  return acc / cnt"
      ]
    },
    {
      "cell_type": "code",
      "execution_count": 10,
      "metadata": {
        "id": "4qdrRdCOjAAs"
      },
      "outputs": [],
      "source": [
        "import numpy as np\n",
        "import matplotlib.pyplot as plt\n",
        "\n",
        "def plot_acc(train_accs, test_accs, label1='train', label2='test'):\n",
        "  x = np.arange(len(train_accs))\n",
        "\n",
        "  plt.plot(x, train_accs, label=label1)\n",
        "  plt.plot(x, test_accs, label=label2)\n",
        "  plt.legend()\n",
        "  plt.show()"
      ]
    },
    {
      "cell_type": "code",
      "execution_count": 11,
      "metadata": {
        "id": "mVG7YTd-jj5b"
      },
      "outputs": [],
      "source": [
        "train_accs = []\n",
        "test_accs = []"
      ]
    },
    {
      "cell_type": "code",
      "execution_count": 12,
      "metadata": {
        "colab": {
          "base_uri": "https://localhost:8080/"
        },
        "id": "TryX1hewvNiB",
        "outputId": "69294805-f198-4e0f-f8ca-d829f730128b"
      },
      "outputs": [
        {
          "name": "stdout",
          "output_type": "stream",
          "text": [
            "Epoch   0 | Loss: 540.389981508255\n",
            "Epoch   1 | Loss: 538.38889503479\n",
            "Epoch   2 | Loss: 535.9600472450256\n",
            "Epoch   3 | Loss: 533.4179649353027\n",
            "Epoch   4 | Loss: 530.7758212089539\n",
            "Epoch   5 | Loss: 527.9731090068817\n",
            "Epoch   6 | Loss: 524.9184167385101\n",
            "Epoch   7 | Loss: 521.589732170105\n",
            "Epoch   8 | Loss: 517.9121391773224\n",
            "Epoch   9 | Loss: 513.839521408081\n",
            "Epoch  10 | Loss: 509.27314734458923\n",
            "Epoch  11 | Loss: 504.16044783592224\n",
            "Epoch  12 | Loss: 498.429402589798\n",
            "Epoch  13 | Loss: 491.9659249782562\n",
            "Epoch  14 | Loss: 483.6865155696869\n",
            "Epoch  15 | Loss: 473.9896606206894\n",
            "Epoch  16 | Loss: 463.22842621803284\n",
            "Epoch  17 | Loss: 451.3473358154297\n",
            "Epoch  18 | Loss: 438.2597758769989\n",
            "Epoch  19 | Loss: 424.039186000824\n",
            "Epoch  20 | Loss: 408.8904184103012\n",
            "Epoch  21 | Loss: 393.1703394651413\n",
            "Epoch  22 | Loss: 376.9397042989731\n",
            "Epoch  23 | Loss: 360.9496842622757\n",
            "Epoch  24 | Loss: 345.33004462718964\n",
            "Epoch  25 | Loss: 330.62741208076477\n",
            "Epoch  26 | Loss: 316.5878585577011\n",
            "Epoch  27 | Loss: 303.91459238529205\n",
            "Epoch  28 | Loss: 288.03142642974854\n",
            "Epoch  29 | Loss: 269.9725308418274\n",
            "Epoch  30 | Loss: 254.57213872671127\n",
            "Epoch  31 | Loss: 241.03102934360504\n",
            "Epoch  32 | Loss: 228.97142481803894\n",
            "Epoch  33 | Loss: 218.21105831861496\n",
            "Epoch  34 | Loss: 208.3392058610916\n",
            "Epoch  35 | Loss: 199.45716577768326\n",
            "Epoch  36 | Loss: 191.48296159505844\n",
            "Epoch  37 | Loss: 184.2966022491455\n",
            "Epoch  38 | Loss: 177.7469133734703\n",
            "Epoch  39 | Loss: 171.8544961810112\n",
            "Epoch  40 | Loss: 166.3924378156662\n",
            "Epoch  41 | Loss: 161.4778317809105\n",
            "Epoch  42 | Loss: 156.91548889875412\n",
            "Epoch  43 | Loss: 152.69864201545715\n",
            "Epoch  44 | Loss: 148.92096865177155\n",
            "Epoch  45 | Loss: 145.42809361219406\n",
            "Epoch  46 | Loss: 142.10551330447197\n",
            "Epoch  47 | Loss: 139.0182426571846\n",
            "Epoch  48 | Loss: 136.23991602659225\n",
            "Epoch  49 | Loss: 133.58886182308197\n",
            "Epoch  50 | Loss: 131.10252660512924\n",
            "Epoch  51 | Loss: 128.71868658065796\n",
            "Epoch  52 | Loss: 126.51974526047707\n",
            "Epoch  53 | Loss: 124.51170459389687\n",
            "Epoch  54 | Loss: 122.5615553855896\n",
            "Epoch  55 | Loss: 120.69047996401787\n",
            "Epoch  56 | Loss: 118.9360386133194\n",
            "Epoch  57 | Loss: 117.29428806900978\n",
            "Epoch  58 | Loss: 115.6683811545372\n",
            "Epoch  59 | Loss: 114.16431531310081\n",
            "Epoch  60 | Loss: 112.72602581977844\n",
            "Epoch  61 | Loss: 111.36104691028595\n",
            "Epoch  62 | Loss: 110.00709250569344\n",
            "Epoch  63 | Loss: 108.83046293258667\n",
            "Epoch  64 | Loss: 107.6325032711029\n",
            "Epoch  65 | Loss: 106.48660996556282\n",
            "Epoch  66 | Loss: 105.401896327734\n",
            "Epoch  67 | Loss: 104.45379111170769\n",
            "Epoch  68 | Loss: 103.36543822288513\n",
            "Epoch  69 | Loss: 102.43515262007713\n",
            "Epoch  70 | Loss: 101.55470803380013\n",
            "Epoch  71 | Loss: 100.70703503489494\n",
            "Epoch  72 | Loss: 99.78421726822853\n",
            "Epoch  73 | Loss: 98.87906554341316\n",
            "Epoch  74 | Loss: 98.16351771354675\n",
            "Epoch  75 | Loss: 97.40261101722717\n",
            "Epoch  76 | Loss: 96.63234657049179\n",
            "Epoch  77 | Loss: 95.90486207604408\n",
            "Epoch  78 | Loss: 95.32063835859299\n",
            "Epoch  79 | Loss: 94.59687346220016\n",
            "Epoch  80 | Loss: 94.01481974124908\n",
            "Epoch  81 | Loss: 93.39019519090652\n",
            "Epoch  82 | Loss: 92.77659678459167\n",
            "Epoch  83 | Loss: 92.1650430560112\n",
            "Epoch  84 | Loss: 91.77761197090149\n",
            "Epoch  85 | Loss: 91.13899171352386\n",
            "Epoch  86 | Loss: 90.59236773848534\n",
            "Epoch  87 | Loss: 90.05960574746132\n",
            "Epoch  88 | Loss: 89.62067487835884\n",
            "Epoch  89 | Loss: 89.09722922742367\n",
            "Epoch  90 | Loss: 88.75770869851112\n",
            "Epoch  91 | Loss: 88.18589007854462\n",
            "Epoch  92 | Loss: 87.82151147723198\n",
            "Epoch  93 | Loss: 87.25404284894466\n",
            "Epoch  94 | Loss: 86.96550323069096\n",
            "Epoch  95 | Loss: 86.50869201123714\n",
            "Epoch  96 | Loss: 86.04904262721539\n",
            "Epoch  97 | Loss: 85.77299278974533\n",
            "Epoch  98 | Loss: 85.27159178256989\n",
            "Epoch  99 | Loss: 85.03135791420937\n"
          ]
        }
      ],
      "source": [
        "n_epochs = 100\n",
        "\n",
        "for epoch in range(n_epochs):\n",
        "  total_loss = 0.\n",
        "  for data in trainloader:\n",
        "    model.zero_grad()\n",
        "    inputs, labels = data\n",
        "    inputs, labels = inputs.to('cuda'), labels.to('cuda')\n",
        "\n",
        "    preds = model(inputs)\n",
        "    # loss = (preds[:, 0] - labels).pow(2).mean()\n",
        "    # 손실함수 교체\n",
        "    loss = torch.nn.CrossEntropyLoss()(preds, labels)\n",
        "    loss.backward()\n",
        "    optimizer.step()\n",
        "\n",
        "    total_loss += loss.item()\n",
        "\n",
        "  train_accs.append(accuracy(model, trainloader))\n",
        "  test_accs.append(accuracy(model, testloader))\n",
        "  print(f\"Epoch {epoch:3d} | Loss: {total_loss}\")"
      ]
    },
    {
      "cell_type": "markdown",
      "metadata": {
        "id": "YRDcptrqniX7"
      },
      "source": [
        "출력 결과를 보면 잘 수렴하는 것을 볼 수 있습니다.\n",
        "이전 구현과 다른 점은 다음 두 가지입니다.\n",
        "- `for data in trainloader`를 통해 batch들을 iterate하면서 model을 학습합니다.\n",
        "- `inputs, labels = inputs.to('cuda'), labels.to('cuda')`를 통해 model의 입력으로 들어가는 tensor들을 GPU로 보냅니다.\n",
        "\n",
        "마지막으로 첫 번째 data에 대한 예측 결과를 살펴봅시다."
      ]
    },
    {
      "cell_type": "code",
      "execution_count": 17,
      "metadata": {
        "colab": {
          "base_uri": "https://localhost:8080/"
        },
        "id": "Zct0ssSKwjt1",
        "outputId": "f2c352c2-4018-46aa-cb8f-811758b106f6"
      },
      "outputs": [
        {
          "name": "stdout",
          "output_type": "stream",
          "text": [
            "tensor([[4.6005, 0.0000, 3.3526, 8.1453, 0.0000, 7.5788, 0.0000, 2.6992, 4.2586,\n",
            "         2.2085]], device='cuda:0', grad_fn=<ReluBackward0>)\n",
            "5\n"
          ]
        }
      ],
      "source": [
        "idx = 0\n",
        "\n",
        "x = trainset[idx][0][None]  # (1, 1, 28, 28)\n",
        "x = x.to('cuda')\n",
        "\n",
        "print(model(x))\n",
        "print(trainset[idx][1])"
      ]
    },
    {
      "cell_type": "code",
      "execution_count": 18,
      "metadata": {
        "colab": {
          "base_uri": "https://localhost:8080/"
        },
        "id": "mbWcDVKysz4V",
        "outputId": "4d169c9d-b0d2-4b63-fb82-63200392b89d"
      },
      "outputs": [
        {
          "name": "stdout",
          "output_type": "stream",
          "text": [
            "tensor([3], device='cuda:0')\n",
            "5\n",
            "tensor([0], device='cuda:0')\n",
            "0\n",
            "tensor([4], device='cuda:0')\n",
            "4\n",
            "tensor([1], device='cuda:0')\n",
            "1\n",
            "tensor([9], device='cuda:0')\n",
            "9\n",
            "tensor([2], device='cuda:0')\n",
            "2\n",
            "tensor([1], device='cuda:0')\n",
            "1\n",
            "tensor([3], device='cuda:0')\n",
            "3\n",
            "tensor([1], device='cuda:0')\n",
            "1\n",
            "tensor([4], device='cuda:0')\n",
            "4\n",
            "tensor([3], device='cuda:0')\n",
            "3\n",
            "tensor([8], device='cuda:0')\n",
            "5\n",
            "tensor([3], device='cuda:0')\n",
            "3\n",
            "tensor([6], device='cuda:0')\n",
            "6\n",
            "tensor([1], device='cuda:0')\n",
            "1\n",
            "tensor([7], device='cuda:0')\n",
            "7\n",
            "tensor([2], device='cuda:0')\n",
            "2\n",
            "tensor([8], device='cuda:0')\n",
            "8\n",
            "tensor([6], device='cuda:0')\n",
            "6\n",
            "tensor([9], device='cuda:0')\n",
            "9\n"
          ]
        },
        {
          "name": "stderr",
          "output_type": "stream",
          "text": [
            "<ipython-input-18-5aa86296693c>:6: UserWarning: Implicit dimension choice for softmax has been deprecated. Change the call to include dim=X as an argument.\n",
            "  _, predicted_class= torch.max(F.softmax(model(x)), dim=1)\n"
          ]
        }
      ],
      "source": [
        "import torch.nn.functional as F\n",
        "\n",
        "for idx in range(20):\n",
        "  x = trainset[idx][0][None]\n",
        "  x = x.to('cuda')\n",
        "  _, predicted_class= torch.max(F.softmax(model(x)), dim=1)\n",
        "  print(predicted_class)\n",
        "  print(trainset[idx][1])\n",
        "\n"
      ]
    },
    {
      "cell_type": "markdown",
      "metadata": {
        "id": "qzgSOrMsoZ2z"
      },
      "source": [
        "여기서 idx를 조정하여 다른 data에 대한 출력 결과도 볼 수 있습니다.\n",
        "예측 결과를 보시면 아직 성능이 그렇게 좋지 않은 것을 알 수 있습니다."
      ]
    },
    {
      "cell_type": "markdown",
      "metadata": {},
      "source": [
        "- Plot"
      ]
    },
    {
      "cell_type": "code",
      "execution_count": 19,
      "metadata": {
        "colab": {
          "base_uri": "https://localhost:8080/",
          "height": 430
        },
        "id": "d6M4SpWQoML9",
        "outputId": "24a7d5c1-db26-4309-8f9c-8608cef977cc"
      },
      "outputs": [
        {
          "data": {
            "image/png": "[encoded data removed]",
            "text/plain": [
              "<Figure size 640x480 with 1 Axes>"
            ]
          },
          "metadata": {},
          "output_type": "display_data"
        }
      ],
      "source": [
        "plot_acc(train_accs, test_accs)"
      ]
    }
  ],
  "metadata": {
    "accelerator": "GPU",
    "colab": {
      "gpuType": "T4",
      "provenance": []
    },
    "kernelspec": {
      "display_name": "Python 3",
      "name": "python3"
    },
    "language_info": {
      "name": "python"
    }
  },
  "nbformat": 4,
  "nbformat_minor": 0
}
