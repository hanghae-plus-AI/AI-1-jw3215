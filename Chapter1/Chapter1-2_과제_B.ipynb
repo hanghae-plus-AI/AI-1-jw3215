{
  "cells": [
    {
      "cell_type": "markdown",
      "metadata": {
        "id": "ymxatB5WYxlL"
      },
      "source": [
        "# Transformer 실습\n",
        "\n",
        "이번 실습에서는 감정 분석 task에 RNN 대신 Transformer를 구현하여 적용해 볼 것입니다.\n",
        "Library import나 dataloader 생성은 RNN 실습 때와 똑같기 때문에 설명은 넘어가도록 하겠습니다."
      ]
    },
    {
      "cell_type": "code",
      "execution_count": 1,
      "metadata": {
        "colab": {
          "base_uri": "https://localhost:8080/"
        },
        "id": "1X7RM2du1zcr",
        "outputId": "624353f7-4758-48db-9bdf-00a78c8124b5"
      },
      "outputs": [
        {
          "name": "stdout",
          "output_type": "stream",
          "text": [
            "Requirement already satisfied: datasets in /usr/local/lib/python3.10/dist-packages (3.0.1)\n",
            "Requirement already satisfied: filelock in /usr/local/lib/python3.10/dist-packages (from datasets) (3.16.1)\n",
            "Requirement already satisfied: numpy>=1.17 in /usr/local/lib/python3.10/dist-packages (from datasets) (1.26.4)\n",
            "Requirement already satisfied: pyarrow>=15.0.0 in /usr/local/lib/python3.10/dist-packages (from datasets) (17.0.0)\n",
            "Requirement already satisfied: dill<0.3.9,>=0.3.0 in /usr/local/lib/python3.10/dist-packages (from datasets) (0.3.8)\n",
            "Requirement already satisfied: pandas in /usr/local/lib/python3.10/dist-packages (from datasets) (2.1.4)\n",
            "Requirement already satisfied: requests>=2.32.2 in /usr/local/lib/python3.10/dist-packages (from datasets) (2.32.3)\n",
            "Requirement already satisfied: tqdm>=4.66.3 in /usr/local/lib/python3.10/dist-packages (from datasets) (4.66.5)\n",
            "Requirement already satisfied: xxhash in /usr/local/lib/python3.10/dist-packages (from datasets) (3.5.0)\n",
            "Requirement already satisfied: multiprocess in /usr/local/lib/python3.10/dist-packages (from datasets) (0.70.16)\n",
            "Requirement already satisfied: fsspec<=2024.6.1,>=2023.1.0 in /usr/local/lib/python3.10/dist-packages (from fsspec[http]<=2024.6.1,>=2023.1.0->datasets) (2024.6.1)\n",
            "Requirement already satisfied: aiohttp in /usr/local/lib/python3.10/dist-packages (from datasets) (3.10.5)\n",
            "Requirement already satisfied: huggingface-hub>=0.22.0 in /usr/local/lib/python3.10/dist-packages (from datasets) (0.24.7)\n",
            "Requirement already satisfied: packaging in /usr/local/lib/python3.10/dist-packages (from datasets) (24.1)\n",
            "Requirement already satisfied: pyyaml>=5.1 in /usr/local/lib/python3.10/dist-packages (from datasets) (6.0.2)\n",
            "Requirement already satisfied: aiohappyeyeballs>=2.3.0 in /usr/local/lib/python3.10/dist-packages (from aiohttp->datasets) (2.4.0)\n",
            "Requirement already satisfied: aiosignal>=1.1.2 in /usr/local/lib/python3.10/dist-packages (from aiohttp->datasets) (1.3.1)\n",
            "Requirement already satisfied: attrs>=17.3.0 in /usr/local/lib/python3.10/dist-packages (from aiohttp->datasets) (24.2.0)\n",
            "Requirement already satisfied: frozenlist>=1.1.1 in /usr/local/lib/python3.10/dist-packages (from aiohttp->datasets) (1.4.1)\n",
            "Requirement already satisfied: multidict<7.0,>=4.5 in /usr/local/lib/python3.10/dist-packages (from aiohttp->datasets) (6.1.0)\n",
            "Requirement already satisfied: yarl<2.0,>=1.0 in /usr/local/lib/python3.10/dist-packages (from aiohttp->datasets) (1.11.1)\n",
            "Requirement already satisfied: async-timeout<5.0,>=4.0 in /usr/local/lib/python3.10/dist-packages (from aiohttp->datasets) (4.0.3)\n",
            "Requirement already satisfied: typing-extensions>=3.7.4.3 in /usr/local/lib/python3.10/dist-packages (from huggingface-hub>=0.22.0->datasets) (4.12.2)\n",
            "Requirement already satisfied: charset-normalizer<4,>=2 in /usr/local/lib/python3.10/dist-packages (from requests>=2.32.2->datasets) (3.3.2)\n",
            "Requirement already satisfied: idna<4,>=2.5 in /usr/local/lib/python3.10/dist-packages (from requests>=2.32.2->datasets) (3.10)\n",
            "Requirement already satisfied: urllib3<3,>=1.21.1 in /usr/local/lib/python3.10/dist-packages (from requests>=2.32.2->datasets) (2.2.3)\n",
            "Requirement already satisfied: certifi>=2017.4.17 in /usr/local/lib/python3.10/dist-packages (from requests>=2.32.2->datasets) (2024.8.30)\n",
            "Requirement already satisfied: python-dateutil>=2.8.2 in /usr/local/lib/python3.10/dist-packages (from pandas->datasets) (2.8.2)\n",
            "Requirement already satisfied: pytz>=2020.1 in /usr/local/lib/python3.10/dist-packages (from pandas->datasets) (2024.2)\n",
            "Requirement already satisfied: tzdata>=2022.1 in /usr/local/lib/python3.10/dist-packages (from pandas->datasets) (2024.1)\n",
            "Requirement already satisfied: six>=1.5 in /usr/local/lib/python3.10/dist-packages (from python-dateutil>=2.8.2->pandas->datasets) (1.16.0)\n"
          ]
        }
      ],
      "source": [
        "!pip install datasets"
      ]
    },
    {
      "cell_type": "code",
      "execution_count": 2,
      "metadata": {
        "colab": {
          "base_uri": "https://localhost:8080/"
        },
        "id": "Y_4zO49DkBTm",
        "outputId": "56628966-61ba-445f-9182-0d9c8de20bcc"
      },
      "outputs": [
        {
          "name": "stdout",
          "output_type": "stream",
          "text": [
            "Requirement already satisfied: sacremoses in /usr/local/lib/python3.10/dist-packages (0.1.1)\n",
            "Requirement already satisfied: regex in /usr/local/lib/python3.10/dist-packages (from sacremoses) (2024.9.11)\n",
            "Requirement already satisfied: click in /usr/local/lib/python3.10/dist-packages (from sacremoses) (8.1.7)\n",
            "Requirement already satisfied: joblib in /usr/local/lib/python3.10/dist-packages (from sacremoses) (1.4.2)\n",
            "Requirement already satisfied: tqdm in /usr/local/lib/python3.10/dist-packages (from sacremoses) (4.66.5)\n"
          ]
        }
      ],
      "source": [
        "!pip install sacremoses"
      ]
    },
    {
      "cell_type": "code",
      "execution_count": 3,
      "metadata": {
        "colab": {
          "base_uri": "https://localhost:8080/"
        },
        "id": "HOdhoBVA1zcu",
        "outputId": "4ed479f2-ece9-4f79-8bb7-91c581b9c9e7"
      },
      "outputs": [
        {
          "name": "stderr",
          "output_type": "stream",
          "text": [
            "/usr/local/lib/python3.10/dist-packages/huggingface_hub/utils/_token.py:89: UserWarning: \n",
            "The secret `HF_TOKEN` does not exist in your Colab secrets.\n",
            "To authenticate with the Hugging Face Hub, create a token in your settings tab (https://huggingface.co/settings/tokens), set it as secret in your Google Colab and restart your session.\n",
            "You will be able to reuse this secret in all of your notebooks.\n",
            "Please note that authentication is recommended but still optional to access public models or datasets.\n",
            "  warnings.warn(\n",
            "Using cache found in /root/.cache/torch/hub/huggingface_pytorch-transformers_main\n",
            "/usr/local/lib/python3.10/dist-packages/transformers/tokenization_utils_base.py:1601: FutureWarning: `clean_up_tokenization_spaces` was not set. It will be set to `True` by default. This behavior will be depracted in transformers v4.45, and will be then set to `False` by default. For more details check this issue: https://github.com/huggingface/transformers/issues/31884\n",
            "  warnings.warn(\n"
          ]
        }
      ],
      "source": [
        "import torch\n",
        "from datasets import load_dataset\n",
        "from torch.utils.data import DataLoader\n",
        "from transformers import BertTokenizerFast\n",
        "from tokenizers import (\n",
        "    decoders,\n",
        "    models,\n",
        "    normalizers,\n",
        "    pre_tokenizers,\n",
        "    processors,\n",
        "    trainers,\n",
        "    Tokenizer,\n",
        ")\n",
        "from torch.nn.utils.rnn import pad_sequence\n",
        "\n",
        "\n",
        "ds = load_dataset(\"stanfordnlp/imdb\")\n",
        "tokenizer = torch.hub.load('huggingface/pytorch-transformers', 'tokenizer', 'bert-base-uncased')\n",
        "\n",
        "\n",
        "def collate_fn(batch):\n",
        "  max_len = 400\n",
        "  texts = [row['text'] for row in batch]\n",
        "\n",
        "  tokens_list = tokenizer(texts, padding=False, truncation=True, max_length=max_len).input_ids\n",
        "\n",
        "  input_token_list = [tokens[:-2] for tokens in tokens_list] # 마지막 두 토큰을 제외한 토큰\n",
        "  label_token_list = [tokens[-2] for tokens in tokens_list] # 마지막에서 두번째 토큰\n",
        "\n",
        "  texts = pad_sequence(\n",
        "      [torch.LongTensor(tokens) for tokens in input_token_list],\n",
        "      batch_first=True,\n",
        "      padding_value=0)\n",
        "  labels = torch.LongTensor(label_token_list)\n",
        "\n",
        "  return texts, labels\n",
        "\n",
        "\n",
        "train_loader = DataLoader(\n",
        "    ds['train'], batch_size=64, shuffle=True, collate_fn=collate_fn\n",
        ")\n",
        "test_loader = DataLoader(\n",
        "    ds['test'], batch_size=64, shuffle=False, collate_fn=collate_fn\n",
        ")"
      ]
    },
    {
      "cell_type": "markdown",
      "metadata": {
        "id": "i-FshZcTZBQ2"
      },
      "source": [
        "## Self-attention\n",
        "\n",
        "이번에는 self-attention을 구현해보겠습니다.\n",
        "Self-attention은 shape이 (B, S, D)인 embedding이 들어왔을 때 attention을 적용하여 새로운 representation을 만들어내는 module입니다.\n",
        "여기서 B는 batch size, S는 sequence length, D는 embedding 차원입니다.\n",
        "구현은 다음과 같습니다."
      ]
    },
    {
      "cell_type": "code",
      "execution_count": 4,
      "metadata": {
        "id": "MBlMVMZcRAxv"
      },
      "outputs": [],
      "source": [
        "from torch import nn\n",
        "from math import sqrt\n",
        "\n",
        "\n",
        "class SelfAttention(nn.Module):\n",
        "  def __init__(self, input_dim, d_model):\n",
        "    super().__init__()\n",
        "\n",
        "    self.input_dim = input_dim\n",
        "    self.d_model = d_model\n",
        "\n",
        "    self.wq = nn.Linear(input_dim, d_model)\n",
        "    self.wk = nn.Linear(input_dim, d_model)\n",
        "    self.wv = nn.Linear(input_dim, d_model)\n",
        "    self.dense = nn.Linear(d_model, d_model)\n",
        "\n",
        "    self.softmax = nn.Softmax(dim=-1)\n",
        "\n",
        "  def forward(self, x, mask):\n",
        "    q, k, v = self.wq(x), self.wk(x), self.wv(x)\n",
        "    score = torch.matmul(q, k.transpose(-1, -2)) # (B, S, D) * (B, D, S) = (B, S, S)\n",
        "    score = score / sqrt(self.d_model)\n",
        "\n",
        "    if mask is not None:\n",
        "      score = score + (mask * -1e9)\n",
        "\n",
        "    score = self.softmax(score)\n",
        "    result = torch.matmul(score, v)\n",
        "    result = self.dense(result)\n",
        "\n",
        "    return result"
      ]
    },
    {
      "cell_type": "markdown",
      "metadata": {},
      "source": [
        "\n",
        "## Multi-head Attention"
      ]
    },
    {
      "cell_type": "code",
      "execution_count": null,
      "metadata": {},
      "outputs": [],
      "source": [
        "\n",
        "class MultiHeadAttention(nn.Module):\n",
        "    def __init__(self, input_dim, d_model, n_heads):\n",
        "        super().__init__()\n",
        "\n",
        "        if input_dim % n_heads != 0:\n",
        "            raise ValueError(\"input_dim must be divisible by n_heads\")\n",
        "\n",
        "        self.input_dim = input_dim\n",
        "        self.d_model = d_model\n",
        "        self.n_heads = n_heads\n",
        "\n",
        "        self.wq = nn.Linear(input_dim, d_model)\n",
        "        self.wk = nn.Linear(input_dim, d_model)\n",
        "        self.wv = nn.Linear(input_dim, d_model)\n",
        "        self.dense = nn.Linear(input_dim, d_model)\n",
        "\n",
        "        self.softmax = nn.Softmax(dim=-1)\n",
        "\n",
        "    def split_into_heads(self, tensor, n_heads):\n",
        "        if len(tensor.shape) is not 3:\n",
        "            raise ValueError(\n",
        "                \"Input tensor must have 3 dimensions (batch_size, sequence_length, hidden_dim)\"\n",
        "            )\n",
        "\n",
        "        b, s, d = tensor.shape\n",
        "        d_prime = d // n_heads\n",
        "        return tensor.reshape(b, s, n_heads, d_prime).transpose(1, 2)\n",
        "\n",
        "    def forward(self, x, mask):\n",
        "        q = self.wq(x)\n",
        "        q = self.split_into_heads(q, self.n_heads)\n",
        "\n",
        "        k = self.wk(x)\n",
        "        k = self.split_into_heads(k, self.n_heads)\n",
        "\n",
        "        v = self.wv(x)\n",
        "        v = self.split_into_heads(v, self.n_heads)\n",
        "\n",
        "        score = q @ k.transpose(-1, -2)  # (B, H, S, D) * (B, H, D, S) = (B, H, S, S)\n",
        "        score = score / sqrt(self.d_model)\n",
        "\n",
        "        if mask is not None:\n",
        "            score = score + (mask.unsqueeze(-2) * -1e9)\n",
        "\n",
        "        score = self.softmax(score)\n",
        "        result = score @ v\n",
        "\n",
        "        result = result.transpose(1, 2)\n",
        "        result = result.reshape(x.shape)\n",
        "        result = self.dense(result)\n",
        "\n",
        "        return result"
      ]
    },
    {
      "cell_type": "markdown",
      "metadata": {
        "id": "-S0vMp85ZRNO"
      },
      "source": [
        "대부분은 Transformer 챕터에서 배운 수식들을 그대로 구현한 것에 불과합니다.\n",
        "차이점은 `mask`의 존재여부입니다.\n",
        "이전 챕터에서 우리는 가변적인 text data들에 padding token을 붙여 하나의 matrix로 만든 방법을 배웠습니다.\n",
        "실제 attention 계산에서는 이를 무시해주기 위해 mask를 만들어 제공해주게 됩니다.\n",
        "여기서 mask의 shape은 (B, S, 1)로, 만약 `mask[i, j] = True`이면 그 변수는 padding token에 해당한다는 뜻입니다.\n",
        "이러한 값들을 무시해주는 방법은 shape이 (B, S, S)인 `score`가 있을 때(수업에서 배운 $A$와 동일) `score[i, j]`에 아주 작은 값을 더해주면 됩니다. 아주 작은 값은 예를 들어 `-1000..00 = -1e9` 같은 것이 있습니다.\n",
        "이렇게 작은 값을 더해주고 나면 softmax를 거쳤을 때 0에 가까워지기 때문에 weighted sum 과정에서 padding token에 해당하는 `v` 값들을 무시할 수 있게 됩니다.\n",
        "\n",
        "다음은 self-attention과 feed-forward layer를 구현한 모습입니다."
      ]
    },
    {
      "cell_type": "code",
      "execution_count": 6,
      "metadata": {
        "id": "VZHPCn9AS5Gp"
      },
      "outputs": [],
      "source": [
        "class TransformerLayer(nn.Module):\n",
        "  def __init__(self, input_dim, d_model, dff, n_heads):\n",
        "    super().__init__()\n",
        "\n",
        "    self.input_dim = input_dim\n",
        "    self.d_model = d_model\n",
        "    self.dff = dff\n",
        "\n",
        "    self.mha = MultiHeadAttention(input_dim, d_model, n_heads)\n",
        "    self.ffn = nn.Sequential(\n",
        "      nn.Linear(d_model, dff), nn.ReLU(), nn.Linear(dff, d_model)\n",
        "    )\n",
        "    self.dropout = nn.Dropout(0.1)\n",
        "    self.layer_norm = nn.LayerNorm(input_dim)\n",
        "\n",
        "  def forward(self, x, mask):\n",
        "    x1 = self.mha(x, mask)\n",
        "    x1 = self.dropout(x1)\n",
        "    x1 = self.layer_norm(x1 + x)\n",
        "\n",
        "    x2 = self.ffn(x1)\n",
        "    x2 = self.dropout(x2)\n",
        "    x2 = self.layer_norm(x2 + x1)\n",
        "\n",
        "    return x2"
      ]
    },
    {
      "cell_type": "markdown",
      "metadata": {
        "id": "O_xC9BQJaU4q"
      },
      "source": [
        "보시다시피 self-attention의 구현이 어렵지, Transformer layer 하나 구현하는 것은 수업 때 다룬 그림과 크게 구분되지 않는다는 점을 알 수 있습니다."
      ]
    },
    {
      "cell_type": "markdown",
      "metadata": {
        "id": "J3VYrqTJagS1"
      },
      "source": [
        "## Positional encoding\n",
        "\n",
        "이번에는 positional encoding을 구현합니다. Positional encoding의 식은 다음과 같습니다:\n",
        "$$\n",
        "\\begin{align*} PE_{pos, 2i} &= \\sin\\left( \\frac{pos}{10000^{2i/D}} \\right), \\\\ PE_{pos, 2i+1} &= \\cos\\left( \\frac{pos}{10000^{2i/D}} \\right).\\end{align*}\n",
        "$$\n",
        "\n",
        "이를 Numpy로 구현하여 PyTorch tensor로 변환한 모습은 다음과 같습니다:"
      ]
    },
    {
      "cell_type": "code",
      "execution_count": 7,
      "metadata": {
        "colab": {
          "base_uri": "https://localhost:8080/"
        },
        "id": "Uf_jMQWDUR79",
        "outputId": "a9f9ed34-29aa-4095-a675-6dd0fea25771"
      },
      "outputs": [
        {
          "name": "stdout",
          "output_type": "stream",
          "text": [
            "torch.Size([1, 400, 256])\n"
          ]
        }
      ],
      "source": [
        "import numpy as np\n",
        "\n",
        "\n",
        "def get_angles(pos, i, d_model):\n",
        "    angle_rates = 1 / np.power(10000, (2 * (i // 2)) / np.float32(d_model))\n",
        "    return pos * angle_rates\n",
        "\n",
        "def positional_encoding(position, d_model):\n",
        "    angle_rads = get_angles(np.arange(position)[:, None], np.arange(d_model)[None, :], d_model)\n",
        "    angle_rads[:, 0::2] = np.sin(angle_rads[:, 0::2])\n",
        "    angle_rads[:, 1::2] = np.cos(angle_rads[:, 1::2])\n",
        "    pos_encoding = angle_rads[None, ...]\n",
        "\n",
        "    return torch.FloatTensor(pos_encoding)\n",
        "\n",
        "\n",
        "max_len = 400\n",
        "print(positional_encoding(max_len, 256).shape)"
      ]
    },
    {
      "cell_type": "markdown",
      "metadata": {
        "id": "5unoDcBva3eN"
      },
      "source": [
        "Positional encoding은 `angle_rads`를 구현하는 과정에서 모두 구현이 되었습니다. 여기서 `angle_rads`의 shape은 (S, D)입니다.\n",
        "우리는 일반적으로 batch로 주어지는 shape이 (B, S, D)인 tensor를 다루기 때문에 마지막에 None을 활용하여 shape을 (1, S, D)로 바꿔주게됩니다.\n",
        "\n",
        "위에서 구현한 `TransformerLayer`와 positional encoding을 모두 합친 모습은 다음과 같습니다:"
      ]
    },
    {
      "cell_type": "code",
      "execution_count": 8,
      "metadata": {
        "id": "8MaiCGh8TsDH"
      },
      "outputs": [],
      "source": [
        "class TextClassifier(nn.Module):\n",
        "  def __init__(self, vocab_size, d_model, n_layers, dff, n_heads):\n",
        "    super().__init__()\n",
        "\n",
        "    self.vocab_size = vocab_size\n",
        "    self.d_model = d_model\n",
        "    self.n_layers = n_layers\n",
        "    self.dff = dff\n",
        "    self.n_heads = n_heads\n",
        "\n",
        "    self.embedding = nn.Embedding(vocab_size, d_model)\n",
        "    self.pos_encoding = nn.parameter.Parameter(positional_encoding(max_len, d_model), requires_grad=False)\n",
        "    self.layers = nn.ModuleList([TransformerLayer(d_model, d_model, dff, n_heads) for _ in range(n_layers)])\n",
        "    self.classification = nn.Linear(d_model, vocab_size)\n",
        "\n",
        "  def forward(self, x):\n",
        "    mask = (x == tokenizer.pad_token_id)\n",
        "    mask = mask[:, None, :]\n",
        "    seq_len = x.shape[1]\n",
        "\n",
        "    x = self.embedding(x)\n",
        "    x = x * sqrt(self.d_model)\n",
        "    x = x + self.pos_encoding[:, :seq_len]\n",
        "\n",
        "    for layer in self.layers:\n",
        "      x = layer(x, mask)\n",
        "\n",
        "    x = x[:, 0]\n",
        "    x = self.classification(x)\n",
        "\n",
        "    return x\n",
        "\n",
        "\n",
        "vocab_size = len(tokenizer)\n",
        "n_layers = 5 # 5-layer\n",
        "n_heads = 4 # 4-heads\n",
        "model = TextClassifier(vocab_size, 32, n_layers, 32, n_heads)"
      ]
    },
    {
      "cell_type": "markdown",
      "metadata": {
        "id": "XXpjPWHjbUK8"
      },
      "source": [
        "기존과 다른 점들은 다음과 같습니다:\n",
        "1. `nn.ModuleList`를 사용하여 여러 layer의 구현을 쉽게 하였습니다.\n",
        "2. Embedding, positional encoding, transformer layer를 거치고 난 후 마지막 label을 예측하기 위해 사용한 값은 `x[:, 0]`입니다. 기존의 RNN에서는 padding token을 제외한 마지막 token에 해당하는 representation을 사용한 것과 다릅니다. 이렇게 사용할 수 있는 이유는 attention 과정을 보시면 첫 번째 token에 대한 representation은 이후의 모든 token의 영향을 받습니다. 즉, 첫 번째 token 또한 전체 문장을 대변하는 의미를 가지고 있다고 할 수 있습니다. 그래서 일반적으로 Transformer를 text 분류에 사용할 때는 이와 같은 방식으로 구현됩니다."
      ]
    },
    {
      "cell_type": "markdown",
      "metadata": {
        "id": "QDq05OlAb2lB"
      },
      "source": [
        "## 학습\n",
        "\n",
        "학습하는 코드는 기존 실습들과 동일하기 때문에 마지막 결과만 살펴보도록 하겠습니다."
      ]
    },
    {
      "cell_type": "code",
      "execution_count": 9,
      "metadata": {
        "id": "r88BALxO1zc1"
      },
      "outputs": [],
      "source": [
        "import numpy as np\n",
        "import matplotlib.pyplot as plt\n",
        "\n",
        "\n",
        "def accuracy(model, dataloader):\n",
        "  cnt = 0\n",
        "  acc = 0\n",
        "\n",
        "  for data in dataloader:\n",
        "    inputs, labels = data\n",
        "    inputs, labels = inputs.to('cuda'), labels.to('cuda')\n",
        "\n",
        "    preds = model(inputs)\n",
        "    preds = torch.argmax(preds, dim=-1)\n",
        "\n",
        "    cnt += labels.shape[0]\n",
        "    acc += (labels == preds).sum().item()\n",
        "\n",
        "  return acc / cnt"
      ]
    },
    {
      "cell_type": "code",
      "execution_count": 13,
      "metadata": {
        "colab": {
          "base_uri": "https://localhost:8080/"
        },
        "id": "al_b56TYRILq",
        "outputId": "891ad6c4-6e9b-435f-b95c-51ab84280c15"
      },
      "outputs": [
        {
          "name": "stdout",
          "output_type": "stream",
          "text": [
            "Epoch   0 | Train Loss: 1605.1303012371063\n",
            "=========> Train acc: 0.558 | Test acc: 0.564\n",
            "Epoch   1 | Train Loss: 1104.6629359722137\n",
            "=========> Train acc: 0.561 | Test acc: 0.568\n",
            "Epoch   2 | Train Loss: 1051.9911752939224\n",
            "=========> Train acc: 0.564 | Test acc: 0.567\n",
            "Epoch   3 | Train Loss: 1022.4281325340271\n",
            "=========> Train acc: 0.570 | Test acc: 0.567\n",
            "Epoch   4 | Train Loss: 999.6970973014832\n",
            "=========> Train acc: 0.572 | Test acc: 0.569\n",
            "Epoch   5 | Train Loss: 979.5367285013199\n",
            "=========> Train acc: 0.576 | Test acc: 0.562\n",
            "Epoch   6 | Train Loss: 960.7807157039642\n",
            "=========> Train acc: 0.576 | Test acc: 0.565\n",
            "Epoch   7 | Train Loss: 938.2888281345367\n",
            "=========> Train acc: 0.579 | Test acc: 0.557\n",
            "Epoch   8 | Train Loss: 918.2402541637421\n",
            "=========> Train acc: 0.586 | Test acc: 0.555\n",
            "Epoch   9 | Train Loss: 890.127339720726\n",
            "=========> Train acc: 0.592 | Test acc: 0.558\n",
            "Epoch  10 | Train Loss: 864.4138162136078\n",
            "=========> Train acc: 0.602 | Test acc: 0.540\n",
            "Epoch  11 | Train Loss: 837.1430566310883\n",
            "=========> Train acc: 0.613 | Test acc: 0.541\n",
            "Epoch  12 | Train Loss: 809.0519741773605\n",
            "=========> Train acc: 0.610 | Test acc: 0.539\n",
            "Epoch  13 | Train Loss: 781.0885657072067\n",
            "=========> Train acc: 0.635 | Test acc: 0.534\n",
            "Epoch  14 | Train Loss: 749.8229794502258\n",
            "=========> Train acc: 0.649 | Test acc: 0.523\n",
            "Epoch  15 | Train Loss: 717.8129519820213\n",
            "=========> Train acc: 0.665 | Test acc: 0.514\n",
            "Epoch  16 | Train Loss: 685.2678560018539\n",
            "=========> Train acc: 0.684 | Test acc: 0.509\n",
            "Epoch  17 | Train Loss: 656.7626094222069\n",
            "=========> Train acc: 0.692 | Test acc: 0.505\n",
            "Epoch  18 | Train Loss: 623.4702272415161\n",
            "=========> Train acc: 0.709 | Test acc: 0.501\n",
            "Epoch  19 | Train Loss: 595.0614128112793\n",
            "=========> Train acc: 0.722 | Test acc: 0.507\n",
            "Epoch  20 | Train Loss: 565.192478954792\n",
            "=========> Train acc: 0.738 | Test acc: 0.508\n",
            "Epoch  21 | Train Loss: 531.52449041605\n",
            "=========> Train acc: 0.761 | Test acc: 0.475\n",
            "Epoch  22 | Train Loss: 505.2349844574928\n",
            "=========> Train acc: 0.769 | Test acc: 0.485\n",
            "Epoch  23 | Train Loss: 479.11612820625305\n",
            "=========> Train acc: 0.803 | Test acc: 0.480\n",
            "Epoch  24 | Train Loss: 449.34093350172043\n",
            "=========> Train acc: 0.813 | Test acc: 0.489\n",
            "Epoch  25 | Train Loss: 420.9686585366726\n",
            "=========> Train acc: 0.832 | Test acc: 0.476\n",
            "Epoch  26 | Train Loss: 395.5168400108814\n",
            "=========> Train acc: 0.841 | Test acc: 0.474\n",
            "Epoch  27 | Train Loss: 370.1553872823715\n",
            "=========> Train acc: 0.857 | Test acc: 0.481\n",
            "Epoch  28 | Train Loss: 345.97901126742363\n",
            "=========> Train acc: 0.862 | Test acc: 0.484\n",
            "Epoch  29 | Train Loss: 329.6320967078209\n",
            "=========> Train acc: 0.878 | Test acc: 0.449\n",
            "Epoch  30 | Train Loss: 309.7859468758106\n",
            "=========> Train acc: 0.893 | Test acc: 0.477\n",
            "Epoch  31 | Train Loss: 282.46826469898224\n",
            "=========> Train acc: 0.891 | Test acc: 0.448\n",
            "Epoch  32 | Train Loss: 267.4232679307461\n",
            "=========> Train acc: 0.903 | Test acc: 0.484\n",
            "Epoch  33 | Train Loss: 248.87148773670197\n",
            "=========> Train acc: 0.919 | Test acc: 0.467\n",
            "Epoch  34 | Train Loss: 234.4078602641821\n",
            "=========> Train acc: 0.919 | Test acc: 0.477\n",
            "Epoch  35 | Train Loss: 223.9283076375723\n",
            "=========> Train acc: 0.934 | Test acc: 0.456\n",
            "Epoch  36 | Train Loss: 205.50524523854256\n",
            "=========> Train acc: 0.923 | Test acc: 0.466\n",
            "Epoch  37 | Train Loss: 205.8682899773121\n",
            "=========> Train acc: 0.936 | Test acc: 0.471\n",
            "Epoch  38 | Train Loss: 187.23610179126263\n",
            "=========> Train acc: 0.945 | Test acc: 0.479\n",
            "Epoch  39 | Train Loss: 172.423377931118\n",
            "=========> Train acc: 0.948 | Test acc: 0.470\n",
            "Epoch  40 | Train Loss: 175.7037997096777\n",
            "=========> Train acc: 0.957 | Test acc: 0.474\n",
            "Epoch  41 | Train Loss: 160.69435964524746\n",
            "=========> Train acc: 0.956 | Test acc: 0.440\n",
            "Epoch  42 | Train Loss: 154.61414738744497\n",
            "=========> Train acc: 0.957 | Test acc: 0.472\n",
            "Epoch  43 | Train Loss: 143.94227983802557\n",
            "=========> Train acc: 0.964 | Test acc: 0.462\n",
            "Epoch  44 | Train Loss: 129.44863173365593\n",
            "=========> Train acc: 0.970 | Test acc: 0.458\n",
            "Epoch  45 | Train Loss: 130.02318243682384\n",
            "=========> Train acc: 0.968 | Test acc: 0.473\n",
            "Epoch  46 | Train Loss: 125.32318340986967\n",
            "=========> Train acc: 0.962 | Test acc: 0.472\n",
            "Epoch  47 | Train Loss: 120.68757772445679\n",
            "=========> Train acc: 0.970 | Test acc: 0.476\n",
            "Epoch  48 | Train Loss: 120.09543263167143\n",
            "=========> Train acc: 0.973 | Test acc: 0.475\n",
            "Epoch  49 | Train Loss: 111.75321701914072\n",
            "=========> Train acc: 0.974 | Test acc: 0.461\n"
          ]
        }
      ],
      "source": [
        "from torch.optim import Adam\n",
        "\n",
        "lr = 0.001\n",
        "model = model.to('cuda')\n",
        "loss_fn = nn.CrossEntropyLoss()\n",
        "\n",
        "optimizer = Adam(model.parameters(), lr=lr)\n",
        "\n",
        "n_epochs = 50\n",
        "\n",
        "for epoch in range(n_epochs):\n",
        "  total_loss = 0.\n",
        "  model.train()\n",
        "  for data in train_loader:\n",
        "    model.zero_grad()\n",
        "    inputs, labels = data\n",
        "    inputs, labels = inputs.to('cuda'), labels.to('cuda')\n",
        "\n",
        "    preds = model(inputs)\n",
        "    loss = loss_fn(preds, labels)\n",
        "    loss.backward()\n",
        "    optimizer.step()\n",
        "\n",
        "    total_loss += loss.item()\n",
        "\n",
        "  print(f\"Epoch {epoch:3d} | Train Loss: {total_loss}\")\n",
        "\n",
        "  with torch.no_grad():\n",
        "    model.eval()\n",
        "    train_acc = accuracy(model, train_loader)\n",
        "    test_acc = accuracy(model, test_loader)\n",
        "    print(f\"=========> Train acc: {train_acc:.3f} | Test acc: {test_acc:.3f}\")"
      ]
    },
    {
      "cell_type": "markdown",
      "metadata": {
        "id": "Gb6v7a3Px6-s"
      },
      "source": [
        "- test data에 대한 정확도: 최대 0.569\n",
        "- 이후로는 over-fitting"
      ]
    }
  ],
  "metadata": {
    "accelerator": "GPU",
    "colab": {
      "gpuType": "A100",
      "machine_shape": "hm",
      "provenance": []
    },
    "kernelspec": {
      "display_name": "Python 3",
      "name": "python3"
    },
    "language_info": {
      "codemirror_mode": {
        "name": "ipython",
        "version": 3
      },
      "file_extension": ".py",
      "mimetype": "text/x-python",
      "name": "python",
      "nbconvert_exporter": "python",
      "pygments_lexer": "ipython3",
      "version": "3.10.14"
    }
  },
  "nbformat": 4,
  "nbformat_minor": 0
}
